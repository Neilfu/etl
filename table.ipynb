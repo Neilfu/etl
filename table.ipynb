{
 "cells": [
  {
   "cell_type": "code",
   "execution_count": 1,
   "metadata": {},
   "outputs": [],
   "source": [
    "import pandas as pd\n",
    "import bqplot as bp\n",
    "import ipywidgets as widgets\n",
    "import traitlets\n",
    "from IPython.display import display\n",
    "import math\n",
    "from tornado.template import Template"
   ]
  },
  {
   "cell_type": "code",
   "execution_count": 2,
   "metadata": {},
   "outputs": [],
   "source": [
    "\n",
    "T_Table = Template( \"\"\"<table class='rendered_html table'> \n",
    "                          <tr>\n",
    "                              {% for field in header %} <th>{{field}}</th>{% end %}\n",
    "                          </tr>  \n",
    "                          {% for row in data %} \n",
    "                              <tr> \n",
    "                                  {% for field in row %} \n",
    "                                      <td> {{ field }} </td> \n",
    "                                  {% end %}\n",
    "                              </tr> \n",
    "                          {% end %} \n",
    "                      </table>\n",
    "                  \"\"\"\n",
    "                 )"
   ]
  },
  {
   "cell_type": "code",
   "execution_count": 3,
   "metadata": {},
   "outputs": [],
   "source": [
    "df = pd.read_csv('../data/iris.csv')\n",
    "df['no'] = df.index.values\n",
    "myheader = df.columns.values.tolist()\n",
    "mybody = df.values.tolist()"
   ]
  },
  {
   "cell_type": "code",
   "execution_count": 4,
   "metadata": {},
   "outputs": [],
   "source": [
    "class TableModel(traitlets.HasTraits):\n",
    "    \n",
    "    \n",
    "    _pos = traitlets.Integer(0)\n",
    "    _refresh = traitlets.Bool()\n",
    "    _pagesize = traitlets.Integer(1)\n",
    "    _header = traitlets.List([])\n",
    "    _data = traitlets.List([])\n",
    "    \n",
    "    def __init__(self, header=[],data=[],pagesize=10):\n",
    "    \n",
    "        if isinstance(header, list):\n",
    "            self._header = header\n",
    "        else:\n",
    "            raise Exception('header must be a list')\n",
    "        if isinstance(data, list):\n",
    "            self._data = data\n",
    "        else:\n",
    "            raise Exception('data must be a list')\n",
    "        if isinstance(pagesize, int) and (pagesize > 0):\n",
    "            self._pagesize = pagesize\n",
    "        else:\n",
    "            raise Exception('pagesuze must be a integer and >0') \n",
    "        \n",
    "        #self.initPara()\n",
    "    \n",
    "    @traitlets.observe('_pos','_header')\n",
    "    def _refreshPos(self,change):\n",
    "        self._refresh = not(self._refresh)\n",
    "              \n",
    "    @property\n",
    "    def page(self):\n",
    "        if self._pos >= self._pagetotal:\n",
    "            self._pos = 0\n",
    "        start = self._pos * self._pagesize\n",
    "        end = start + self._pagesize\n",
    "        end = end if end <= self._recordtotal else self._recordtotal\n",
    "        return self._data[start:end]\n",
    "        \n",
    "    def back(self):\n",
    "        if self.pos <= self._pagetotal:\n",
    "            self.pos = self.pos + 1\n",
    "        #return self.page\n",
    "    \n",
    "    def previous(self):\n",
    "        if (self.pos - 1) > 0 :\n",
    "            self.pos = self.pos - 1\n",
    "        #return self.page\n",
    "    \n",
    "    def first(self):\n",
    "        self.pos = 1\n",
    "        #return self.page\n",
    "    \n",
    "    def last(self):\n",
    "        self.pos = self._pagetotal\n",
    "        #return self.page\n",
    "    \n",
    "    @traitlets.observe('_pagesize','_data')\n",
    "    def initPara(self,change=None):\n",
    "        \n",
    "        self._recordtotal = len(self._data)\n",
    "        self._pagetotal = int(math.ceil(float(self._recordtotal) / self._pagesize))\n",
    "        #self._pos = 1\n",
    "        self._refresh = not(self._refresh)\n",
    "    \n",
    "    @property\n",
    "    def pageTotal(self):\n",
    "        return self._pagetotal\n",
    "\n",
    "    @property\n",
    "    def pageSize(self):\n",
    "        return self._pagesize\n",
    "    \n",
    "    @pageSize.setter\n",
    "    def pageSize(self,val):\n",
    "        if isinstance(val, int) and int(val)>0:\n",
    "            self._pagesize = int(val)\n",
    "        else:\n",
    "            raise('pageSize must be a integer  > 0')\n",
    "            \n",
    "    @property\n",
    "    def data(self):\n",
    "        return self._data\n",
    "\n",
    "    @data.setter\n",
    "    def data(self,data=None):\n",
    "        if data and isinstance(data, list):\n",
    "            self._data = data\n",
    "        else:\n",
    "            raise Exception('data must be a list')\n",
    "   \n",
    "    \n",
    "    @property\n",
    "    def recordTotal(self):\n",
    "        return self._recordtotal\n",
    "    \n",
    "    @property\n",
    "    def header(self):\n",
    "        return self._header\n",
    "    \n",
    "    @header.setter\n",
    "    def header(self,header=[]):\n",
    "        if isinstance(header, list):\n",
    "            self._header = header\n",
    "        else:\n",
    "            raise Exception('header must be a list')\n",
    "        \n",
    "    \n",
    "    @property\n",
    "    def pos(self):\n",
    "        return self._pos + 1\n",
    "    \n",
    "    @pos.setter\n",
    "    def pos(self,pos=1):\n",
    "        if isinstance(pos, int) and (pos > 0) and (pos <= self._pagetotal):\n",
    "            self._pos = pos-1       "
   ]
  },
  {
   "cell_type": "code",
   "execution_count": 3,
   "metadata": {},
   "outputs": [
    {
     "ename": "NameError",
     "evalue": "name 'widgets' is not defined",
     "output_type": "error",
     "traceback": [
      "\u001b[0;31m---------------------------------------------------------------------------\u001b[0m",
      "\u001b[0;31mNameError\u001b[0m                                 Traceback (most recent call last)",
      "\u001b[0;32m<ipython-input-3-10a05a79877e>\u001b[0m in \u001b[0;36m<module>\u001b[0;34m()\u001b[0m\n\u001b[0;32m----> 1\u001b[0;31m \u001b[0;32mclass\u001b[0m \u001b[0mTableChart\u001b[0m\u001b[0;34m(\u001b[0m\u001b[0mwidgets\u001b[0m\u001b[0;34m.\u001b[0m\u001b[0mVBox\u001b[0m\u001b[0;34m)\u001b[0m\u001b[0;34m:\u001b[0m\u001b[0;34m\u001b[0m\u001b[0m\n\u001b[0m\u001b[1;32m      2\u001b[0m \u001b[0;34m\u001b[0m\u001b[0m\n\u001b[1;32m      3\u001b[0m     \u001b[0m_refresh_v\u001b[0m \u001b[0;34m=\u001b[0m \u001b[0mtraitlets\u001b[0m\u001b[0;34m.\u001b[0m\u001b[0mBool\u001b[0m\u001b[0;34m(\u001b[0m\u001b[0;34m)\u001b[0m\u001b[0;34m\u001b[0m\u001b[0m\n\u001b[1;32m      4\u001b[0m \u001b[0;34m\u001b[0m\u001b[0m\n\u001b[1;32m      5\u001b[0m     \u001b[0;32mdef\u001b[0m \u001b[0mupdate\u001b[0m\u001b[0;34m(\u001b[0m\u001b[0mself\u001b[0m\u001b[0;34m,\u001b[0m\u001b[0mchange\u001b[0m\u001b[0;34m=\u001b[0m\u001b[0mNone\u001b[0m\u001b[0;34m)\u001b[0m\u001b[0;34m:\u001b[0m\u001b[0;34m\u001b[0m\u001b[0m\n",
      "\u001b[0;31mNameError\u001b[0m: name 'widgets' is not defined"
     ]
    }
   ],
   "source": [
    "class TableChart(widgets.VBox):\n",
    "   \n",
    "    _refresh_v = traitlets.Bool()    \n",
    "\n",
    "    def update(self,change=None):\n",
    "        table_html = T_Table.generate(header=self.model.header,data=self.model.page)\n",
    "        self.html.value = table_html\n",
    "        self.status.value = u'当前第%d页，共%d页' %(self.model.pos,self.model.pageTotal)\n",
    "    \n",
    "    def first(self,a):\n",
    "        self.model.first()\n",
    "\n",
    "\n",
    "    def back(self,a):\n",
    "        self.model.back()\n",
    "\n",
    "\n",
    "    def previous(self,a):\n",
    "        self.model.previous()\n",
    "\n",
    "\n",
    "    def last(self,a):\n",
    "        self.model.last()\n",
    "\n",
    "        \n",
    "    def actionBar(self):\n",
    "        self.btn_first = widgets.Button(icon='fa-step-backward',tooltip=u'第一页')\n",
    "        self.btn_previous = widgets.Button(icon='fa-chevron-left',tooltip=u'上一页')\n",
    "        self.btn_back = widgets.Button(icon='fa-chevron-right',tooltip=u'下一页')\n",
    "        self.btn_last = widgets.Button(icon='fa-step-forward',tooltip=u'最后页')\n",
    "        self.status = widgets.HTML()\n",
    "        self.action = widgets.HBox(layout=widgets.Layout(width=\"100%\",display='flex-flow',flex_flow='row', justify_content='space-around'))  \n",
    "        self.action.children = [self.status,self.btn_first,self.btn_previous,self.btn_back,self.btn_last]\n",
    "        self.btn_first.on_click(self.first,False)\n",
    "        self.btn_previous.on_click(self.previous,False)\n",
    "        self.btn_back.on_click(self.back,False)   \n",
    "        self.btn_last.on_click(self.last,False)   \n",
    "        \n",
    "    def __init__(self,header,body,pagesize=10):        \n",
    "        super(TableChart,self).__init__()        \n",
    "        self.model = TableModel(header,body,pagesize)\n",
    "        self.html = widgets.HTML() \n",
    "        self.actionBar()\n",
    "\n",
    "        self.update()\n",
    "        self.children = [self.html,self.action]\n",
    "        #refresh_link = traitlets.dlink((self.model,'_refresh'),(self,'_refresh_v'))\n",
    "        self.model.observe(self.update,'_refresh')\n",
    "        \n"
   ]
  },
  {
   "cell_type": "code",
   "execution_count": 4,
   "metadata": {},
   "outputs": [
    {
     "ename": "NameError",
     "evalue": "name 'TableChart' is not defined",
     "output_type": "error",
     "traceback": [
      "\u001b[0;31m---------------------------------------------------------------------------\u001b[0m",
      "\u001b[0;31mNameError\u001b[0m                                 Traceback (most recent call last)",
      "\u001b[0;32m<ipython-input-4-dec3fdc79d3e>\u001b[0m in \u001b[0;36m<module>\u001b[0;34m()\u001b[0m\n\u001b[1;32m      1\u001b[0m \u001b[0;34m\u001b[0m\u001b[0m\n\u001b[0;32m----> 2\u001b[0;31m \u001b[0mtable\u001b[0m \u001b[0;34m=\u001b[0m \u001b[0mTableChart\u001b[0m\u001b[0;34m(\u001b[0m\u001b[0mmyheader\u001b[0m\u001b[0;34m,\u001b[0m\u001b[0mmybody\u001b[0m\u001b[0;34m,\u001b[0m\u001b[0;36m20\u001b[0m\u001b[0;34m)\u001b[0m\u001b[0;34m\u001b[0m\u001b[0m\n\u001b[0m\u001b[1;32m      3\u001b[0m \u001b[0mtable\u001b[0m\u001b[0;34m\u001b[0m\u001b[0m\n",
      "\u001b[0;31mNameError\u001b[0m: name 'TableChart' is not defined"
     ]
    }
   ],
   "source": [
    "           \n",
    "table = TableChart(myheader,mybody,20)\n",
    "table"
   ]
  },
  {
   "cell_type": "code",
   "execution_count": 7,
   "metadata": {},
   "outputs": [
    {
     "data": {
      "text/plain": [
       "(10, 6, 150, 1, 15)"
      ]
     },
     "execution_count": 7,
     "metadata": {},
     "output_type": "execute_result"
    }
   ],
   "source": [
    "table.model.pageSize = 10\n",
    "table.model.pageSize,len(table.model._header),len(table.model._data),table.model.pos,table.model.pageTotal"
   ]
  },
  {
   "cell_type": "code",
   "execution_count": 8,
   "metadata": {},
   "outputs": [
    {
     "data": {
      "text/plain": [
       "(10, 6, 150, 3, 15)"
      ]
     },
     "execution_count": 8,
     "metadata": {},
     "output_type": "execute_result"
    }
   ],
   "source": [
    "table.model.pos = 3\n",
    "table.model.pageSize,len(table.model._header),len(table.model._data),table.model.pos,table.model.pageTotal"
   ]
  },
  {
   "cell_type": "code",
   "execution_count": 9,
   "metadata": {},
   "outputs": [],
   "source": [
    "mybody1 = df[:64].values.tolist()\n"
   ]
  },
  {
   "cell_type": "code",
   "execution_count": 10,
   "metadata": {},
   "outputs": [],
   "source": [
    "df1 = pd.read_csv('../data/crimea.csv')\n",
    "d1 = df1[:50].values.tolist()\n",
    "h1 = df1.columns.values.tolist()\n"
   ]
  },
  {
   "cell_type": "code",
   "execution_count": 11,
   "metadata": {},
   "outputs": [
    {
     "data": {
      "text/plain": [
       "['date', 'disease', 'other', 'wounds']"
      ]
     },
     "execution_count": 11,
     "metadata": {},
     "output_type": "execute_result"
    }
   ],
   "source": [
    "h1"
   ]
  },
  {
   "cell_type": "code",
   "execution_count": 12,
   "metadata": {},
   "outputs": [],
   "source": [
    "table.model.data = d1"
   ]
  },
  {
   "cell_type": "code",
   "execution_count": 13,
   "metadata": {},
   "outputs": [],
   "source": [
    "table.model.header = h1"
   ]
  },
  {
   "cell_type": "code",
   "execution_count": null,
   "metadata": {},
   "outputs": [],
   "source": []
  }
 ],
 "metadata": {
  "_draft": {
   "nbviewer_url": "https://gist.github.com/c3987331c3d1d9c07377e86b6bfba0cc"
  },
  "gist": {
   "data": {
    "description": "table.ipynb",
    "public": true
   },
   "id": "c3987331c3d1d9c07377e86b6bfba0cc"
  },
  "kernelspec": {
   "display_name": "Python 2",
   "language": "python",
   "name": "python2"
  },
  "language_info": {
   "codemirror_mode": {
    "name": "ipython",
    "version": 2
   },
   "file_extension": ".py",
   "mimetype": "text/x-python",
   "name": "python",
   "nbconvert_exporter": "python",
   "pygments_lexer": "ipython2",
   "version": "2.7.13"
  }
 },
 "nbformat": 4,
 "nbformat_minor": 2
}
