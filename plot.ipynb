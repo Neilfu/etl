{
 "cells": [
  {
   "cell_type": "code",
   "execution_count": 665,
   "metadata": {
    "extensions": {
     "jupyter_dashboards": {
      "version": 1,
      "views": {
       "grid_default": {
        "hidden": true
       },
       "report_default": {
        "hidden": true
       }
      }
     }
    }
   },
   "outputs": [],
   "source": [
    "import pandas as pd\n",
    "import bqplot as bp\n",
    "from dateutil.parser import parse\n",
    "from ipywidgets import interact, interactive, fixed, interact_manual,Layout,Box,HTML\n",
    "import ipywidgets as widgets\n",
    "from IPython.display import display"
   ]
  },
  {
   "cell_type": "code",
   "execution_count": 478,
   "metadata": {
    "extensions": {
     "jupyter_dashboards": {
      "version": 1,
      "views": {
       "grid_default": {
        "col": 0,
        "height": 8,
        "hidden": false,
        "row": 0,
        "width": 5
       },
       "report_default": {
        "hidden": true
       }
      }
     }
    }
   },
   "outputs": [],
   "source": [
    "df = pd.read_csv('data/iris.csv')"
   ]
  },
  {
   "cell_type": "code",
   "execution_count": 698,
   "metadata": {
    "extensions": {
     "jupyter_dashboards": {
      "version": 1,
      "views": {
       "grid_default": {
        "hidden": true
       },
       "report_default": {
        "hidden": true
       }
      }
     }
    }
   },
   "outputs": [],
   "source": [
    "class ObjectNone:\n",
    "    pass\n",
    "\n",
    "class PlotChart(object):\n",
    "\n",
    "    def __init__(self,df,x=None,y=None,color=None,size=None,opacity=None):        \n",
    "        \n",
    "        self.data = ObjectNone()\n",
    "        if isinstance(df,pd.DataFrame):\n",
    "            self.data.df = df\n",
    "        if x in df:\n",
    "            self.data.x_name = x\n",
    "            self.data.x = self.data.df[x].values\n",
    "        else:\n",
    "            self.data.y =None\n",
    "        if y in df:\n",
    "            self.data.y_name = y\n",
    "            self.data.y = self.data.df[y].values\n",
    "        else:\n",
    "            self.data.y =None\n",
    "        if color in df:\n",
    "            self.data.color_name = color\n",
    "            self.data.color = self.data.df[color].values\n",
    "        else:\n",
    "            self.data.color =None            \n",
    "        if size in df:\n",
    "            self.data.size_name = size\n",
    "            self.data.size = self.data.df[size].values\n",
    "        else:\n",
    "            self.data.size =None\n",
    "        if opacity in df:\n",
    "            self.data.opacity = opacity\n",
    "            self.data.opacity = self.data.df[opacity].values\n",
    "        else:\n",
    "            self.data.opacity =None\n",
    "            \n",
    "        self.scale = ObjectNone()\n",
    "        self.scale.x = bp.LinearScale()\n",
    "        self.scale.y = bp.LinearScale()\n",
    "\n",
    "        self.scale.color = bp.OrdinalColorScale(colors=['red','blue','green'])\n",
    "        self.scale.opacity = bp.OrdinalScale(dtype=[0.1,0.5,0.9],rtype=['setosa','versicolor','virginica'])\n",
    "\n",
    "            \n",
    "        self.axes = ObjectNone()\n",
    "        self.axes.x = bp.Axis(scale=self.scale.x,label='X')\n",
    "        self.axes.y = bp.Axis(scale=self.scale.y,label='Y',orientation='vertical')\n",
    "        self.axes.color = bp.ColorAxis(scale=self.scale.color, label='Species', orientation='vertical', side='right')\n",
    "        \n",
    "        self.mark = bp.Scatter(x=self.data.x,y=self.data.y,color=self.data.color,\n",
    "                               scales={'x':self.scale.x,'y':self.scale.y,'color':self.scale.color})\n",
    "        self.figure = bp.Figure(marks=[self.mark],axes=[self.axes.x,self.axes.y,self.axes.color],\n",
    "                                fig_margin=dict(top=40, bottom=40, left=40, right=150),layout={'width':'98%'})\n",
    "\n",
    "\n",
    "    def show(self):\n",
    "        self.box_layout = Layout(display='flex',flex_flow='row wrap',border='solid',width='100%')\n",
    "        self.children = [self.figure]\n",
    "        self.box = Box(children= self.children, layout=self.box_layout)\n",
    "        display(self.box)\n",
    "    \n",
    "    def listenSelect(self,remove=False):\n",
    "        if not remove:\n",
    "            self.mark.interactions = {'click': 'select'}\n",
    "            self.mark.selected_style={'opacity': 0.5, 'fill': 'DarkOrange', 'stroke': 'Red'}\n",
    "            #self.mark.unselected_style={'opacity': 0.5}\n",
    "        else:\n",
    "            self.mark.interactions = {'click': 'select'}\n",
    "            self.mark.selected_style = {}\n",
    "            self.mark.unselected_style = {}\n",
    "    \n",
    "    def setting(self):\n",
    "        self.v_width = widgets.FloatSlider(min=0.1,max=2,value=1,step=0.1)\n",
    "        self.v_width.observe(self.onWidthChange, 'value')\n",
    "        display(self.v_width)\n",
    "    \n",
    "    def onWidthChange(self,change):\n",
    "        self.box.layout.width = \"%.0f%%\" % (change['new'] * 100) \n",
    "\n",
    "    def listenMoveEvt(self, enable=True):\n",
    "        \n",
    "        plot.mark.enable_move = enable\n",
    "        plot.mark.on_drag(self.dragHandle,True)\n",
    "        self.mark.observe(self.onPlotMove,names='x')\n",
    "        self.mark.observe(self.onPlotMove,names='y')\n",
    "    \n",
    "    def dragHandle(self,args):\n",
    "        print self.mark.selected\n",
    "\n",
    "    def evtPrint(self,widget,target):\n",
    "    \n",
    "        self.label.value = '<h1>x:{},y:{}</h1>'.format(target['point']['x'],target['point']['y'])\n",
    "        \n",
    "    \n",
    "    def triggerPrint(self):\n",
    "        #self.mark.on_element_click(self.evtPrint)\n",
    "        self.mark.on_drag(self.evtPrint)\n",
    "        self.label = HTML()\n",
    "        display(self.label)\n",
    "        \n",
    "    def onPlotMove(self,change):\n",
    "        #label_x = widgets.Label('move to {}'.format(change['new']))\n",
    "        #label_y = widgets.Label('move to {}'.format(change['new']))\n",
    "        print self.mark.selected\n",
    "        #print change['new']"
   ]
  },
  {
   "cell_type": "code",
   "execution_count": 699,
   "metadata": {
    "extensions": {
     "jupyter_dashboards": {
      "version": 1,
      "views": {
       "grid_default": {
        "col": 9,
        "height": 19,
        "hidden": false,
        "row": 0,
        "width": null
       },
       "report_default": {
        "hidden": false
       }
      }
     }
    }
   },
   "outputs": [
    {
     "data": {
      "application/vnd.jupyter.widget-view+json": {
       "model_id": "1a5ff8e46730410cbae5f44d3d4345f1",
       "version_major": 2,
       "version_minor": 0
      },
      "text/html": [
       "<p>Failed to display Jupyter Widget of type <code>Box</code>.</p>\n",
       "<p>\n",
       "  If you're reading this message in Jupyter Notebook or JupyterLab, it may mean\n",
       "  that the widgets JavaScript is still loading. If this message persists, it\n",
       "  likely means that the widgets JavaScript library is either not installed or\n",
       "  not enabled. See the <a href=\"https://ipywidgets.readthedocs.io/en/stable/user_install.html\">Jupyter\n",
       "  Widgets Documentation</a> for setup instructions.\n",
       "</p>\n",
       "<p>\n",
       "  If you're reading this message in another notebook frontend (for example, a static\n",
       "  rendering on GitHub or <a href=\"https://nbviewer.jupyter.org/\">NBViewer</a>),\n",
       "  it may mean that your frontend doesn't currently support widgets.\n",
       "</p>\n"
      ],
      "text/plain": [
       "Box(children=(Figure(axes=[Axis(label=u'X', scale=LinearScale()), Axis(label=u'Y', orientation='vertical', scale=LinearScale()), ColorAxis(label=u'Species', orientation='vertical', scale=OrdinalColorScale(colors=['red', 'blue', 'green']), side='right')], fig_margin={'top': 40, 'right': 150, 'left': 40, 'bottom': 40}, layout=Layout(width=u'98%'), marks=[Scatter(color=array(['setosa', 'setosa', 'setosa', 'setosa', 'setosa', 'setosa',\n",
       "       'setosa', 'setosa', 'setosa', 'setosa', 'setosa', 'setosa',\n",
       "       'setosa', 'setosa', 'setosa', 'setosa', 'setosa', 'setosa',\n",
       "       'setosa', 'setosa', 'setosa', 'setosa', 'setosa', 'setosa',\n",
       "       'setosa', 'setosa', 'setosa', 'setosa', 'setosa', 'setosa',\n",
       "       'setosa', 'setosa', 'setosa', 'setosa', 'setosa', 'setosa',\n",
       "       'setosa', 'setosa', 'setosa', 'setosa', 'setosa', 'setosa',\n",
       "       'setosa', 'setosa', 'setosa', 'setosa', 'setosa', 'setosa',\n",
       "       'setosa', 'setosa', 'versicolor', 'versicolor', 'versicolor',\n",
       "       'versicolor', 'versicolor', 'versicolor', 'versicolor',\n",
       "       'versicolor', 'versicolor', 'versicolor', 'versicolor',\n",
       "       'versicolor', 'versicolor', 'versicolor', 'versicolor',\n",
       "       'versicolor', 'versicolor', 'versicolor', 'versicolor',\n",
       "       'versicolor', 'versicolor', 'versicolor', 'versicolor',\n",
       "       'versicolor', 'versicolor', 'versicolor', 'versicolor',\n",
       "       'versicolor', 'versicolor', 'versicolor', 'versicolor',\n",
       "       'versicolor', 'versicolor', 'versicolor', 'versicolor',\n",
       "       'versicolor', 'versicolor', 'versicolor', 'versicolor',\n",
       "       'versicolor', 'versicolor', 'versicolor', 'versicolor',\n",
       "       'versicolor', 'versicolor', 'versicolor', 'versicolor',\n",
       "       'versicolor', 'versicolor', 'versicolor', 'virginica', 'virginica',\n",
       "       'virginica', 'virginica', 'virginica', 'virginica', 'virginica',\n",
       "       'virginica', 'virginica', 'virginica', 'virginica', 'virginica',\n",
       "       'virginica', 'virginica', 'virginica', 'virginica', 'virginica',\n",
       "       'virginica', 'virginica', 'virginica', 'virginica', 'virginica',\n",
       "       'virginica', 'virginica', 'virginica', 'virginica', 'virginica',\n",
       "       'virginica', 'virginica', 'virginica', 'virginica', 'virginica',\n",
       "       'virginica', 'virginica', 'virginica', 'virginica', 'virginica',\n",
       "       'virginica', 'virginica', 'virginica', 'virginica', 'virginica',\n",
       "       'virginica', 'virginica', 'virginica', 'virginica', 'virginica',\n",
       "       'virginica', 'virginica', 'virginica'], dtype=object), colors=['DeepSkyBlue'], interactions={'hover': 'tooltip'}, scales={'y': LinearScale(), 'x': LinearScale(), 'color': OrdinalColorScale(colors=['red', 'blue', 'green'])}, scales_metadata={'opacity': {'dimension': 'opacity'}, 'y': {'orientation': 'vertical', 'dimension': 'y'}, 'color': {'dimension': 'color'}, 'x': {'orientation': 'horizontal', 'dimension': 'x'}, 'skew': {'dimension': 'skew'}, 'rotation': {'dimension': 'rotation'}, 'size': {'dimension': 'size'}}, tooltip_style={'opacity': 0.9}, x=array([ 1.4,  1.4,  1.3,  1.5,  1.4,  1.7,  1.4,  1.5,  1.4,  1.5,  1.5,\n",
       "        1.6,  1.4,  1.1,  1.2,  1.5,  1.3,  1.4,  1.7,  1.5,  1.7,  1.5,\n",
       "        1. ,  1.7,  1.9,  1.6,  1.6,  1.5,  1.4,  1.6,  1.6,  1.5,  1.5,\n",
       "        1.4,  1.5,  1.2,  1.3,  1.4,  1.3,  1.5,  1.3,  1.3,  1.3,  1.6,\n",
       "        1.9,  1.4,  1.6,  1.4,  1.5,  1.4,  4.7,  4.5,  4.9,  4. ,  4.6,\n",
       "        4.5,  4.7,  3.3,  4.6,  3.9,  3.5,  4.2,  4. ,  4.7,  3.6,  4.4,\n",
       "        4.5,  4.1,  4.5,  3.9,  4.8,  4. ,  4.9,  4.7,  4.3,  4.4,  4.8,\n",
       "        5. ,  4.5,  3.5,  3.8,  3.7,  3.9,  5.1,  4.5,  4.5,  4.7,  4.4,\n",
       "        4.1,  4. ,  4.4,  4.6,  4. ,  3.3,  4.2,  4.2,  4.2,  4.3,  3. ,\n",
       "        4.1,  6. ,  5.1,  5.9,  5.6,  5.8,  6.6,  4.5,  6.3,  5.8,  6.1,\n",
       "        5.1,  5.3,  5.5,  5. ,  5.1,  5.3,  5.5,  6.7,  6.9,  5. ,  5.7,\n",
       "        4.9,  6.7,  4.9,  5.7,  6. ,  4.8,  4.9,  5.6,  5.8,  6.1,  6.4,\n",
       "        5.6,  5.1,  5.6,  6.1,  5.6,  5.5,  4.8,  5.4,  5.6,  5.1,  5.1,\n",
       "        5.9,  5.7,  5.2,  5. ,  5.2,  5.4,  5.1]), y=array([ 0.2,  0.2,  0.2,  0.2,  0.2,  0.4,  0.3,  0.2,  0.2,  0.1,  0.2,\n",
       "        0.2,  0.1,  0.1,  0.2,  0.4,  0.4,  0.3,  0.3,  0.3,  0.2,  0.4,\n",
       "        0.2,  0.5,  0.2,  0.2,  0.4,  0.2,  0.2,  0.2,  0.2,  0.4,  0.1,\n",
       "        0.2,  0.2,  0.2,  0.2,  0.1,  0.2,  0.2,  0.3,  0.3,  0.2,  0.6,\n",
       "        0.4,  0.3,  0.2,  0.2,  0.2,  0.2,  1.4,  1.5,  1.5,  1.3,  1.5,\n",
       "        1.3,  1.6,  1. ,  1.3,  1.4,  1. ,  1.5,  1. ,  1.4,  1.3,  1.4,\n",
       "        1.5,  1. ,  1.5,  1.1,  1.8,  1.3,  1.5,  1.2,  1.3,  1.4,  1.4,\n",
       "        1.7,  1.5,  1. ,  1.1,  1. ,  1.2,  1.6,  1.5,  1.6,  1.5,  1.3,\n",
       "        1.3,  1.3,  1.2,  1.4,  1.2,  1. ,  1.3,  1.2,  1.3,  1.3,  1.1,\n",
       "        1.3,  2.5,  1.9,  2.1,  1.8,  2.2,  2.1,  1.7,  1.8,  1.8,  2.5,\n",
       "        2. ,  1.9,  2.1,  2. ,  2.4,  2.3,  1.8,  2.2,  2.3,  1.5,  2.3,\n",
       "        2. ,  2. ,  1.8,  2.1,  1.8,  1.8,  1.8,  2.1,  1.6,  1.9,  2. ,\n",
       "        2.2,  1.5,  1.4,  2.3,  2.4,  1.8,  1.8,  2.1,  2.4,  2.3,  1.9,\n",
       "        2.3,  2.5,  2.3,  1.9,  2. ,  2.3,  1.8]))], scale_x=LinearScale(allow_padding=False, max=1.0, min=0.0), scale_y=LinearScale(allow_padding=False, max=1.0, min=0.0)),), layout=Layout(border=u'solid', display=u'flex', flex_flow=u'row wrap', width=u'100%'))"
      ]
     },
     "metadata": {},
     "output_type": "display_data"
    },
    {
     "data": {
      "application/vnd.jupyter.widget-view+json": {
       "model_id": "95ff390083504e34a8319c0d3c2f4592",
       "version_major": 2,
       "version_minor": 0
      },
      "text/html": [
       "<p>Failed to display Jupyter Widget of type <code>FloatSlider</code>.</p>\n",
       "<p>\n",
       "  If you're reading this message in Jupyter Notebook or JupyterLab, it may mean\n",
       "  that the widgets JavaScript is still loading. If this message persists, it\n",
       "  likely means that the widgets JavaScript library is either not installed or\n",
       "  not enabled. See the <a href=\"https://ipywidgets.readthedocs.io/en/stable/user_install.html\">Jupyter\n",
       "  Widgets Documentation</a> for setup instructions.\n",
       "</p>\n",
       "<p>\n",
       "  If you're reading this message in another notebook frontend (for example, a static\n",
       "  rendering on GitHub or <a href=\"https://nbviewer.jupyter.org/\">NBViewer</a>),\n",
       "  it may mean that your frontend doesn't currently support widgets.\n",
       "</p>\n"
      ],
      "text/plain": [
       "FloatSlider(value=1.0, max=2.0, min=0.1)"
      ]
     },
     "metadata": {},
     "output_type": "display_data"
    }
   ],
   "source": [
    "plot = PlotChart(df=df,x='petalLength',y='petalWidth',color='species',opacity='species')\n",
    "plot.show()\n",
    "plot.setting()"
   ]
  },
  {
   "cell_type": "code",
   "execution_count": 700,
   "metadata": {},
   "outputs": [
    {
     "data": {
      "application/vnd.jupyter.widget-view+json": {
       "model_id": "d66b8badf647411ba75c01a328ac472d",
       "version_major": 2,
       "version_minor": 0
      },
      "text/html": [
       "<p>Failed to display Jupyter Widget of type <code>HTML</code>.</p>\n",
       "<p>\n",
       "  If you're reading this message in Jupyter Notebook or JupyterLab, it may mean\n",
       "  that the widgets JavaScript is still loading. If this message persists, it\n",
       "  likely means that the widgets JavaScript library is either not installed or\n",
       "  not enabled. See the <a href=\"https://ipywidgets.readthedocs.io/en/stable/user_install.html\">Jupyter\n",
       "  Widgets Documentation</a> for setup instructions.\n",
       "</p>\n",
       "<p>\n",
       "  If you're reading this message in another notebook frontend (for example, a static\n",
       "  rendering on GitHub or <a href=\"https://nbviewer.jupyter.org/\">NBViewer</a>),\n",
       "  it may mean that your frontend doesn't currently support widgets.\n",
       "</p>\n"
      ],
      "text/plain": [
       "HTML(value=u'')"
      ]
     },
     "metadata": {},
     "output_type": "display_data"
    }
   ],
   "source": [
    "#plot.listenMoveEvt(True)\n",
    "#plot.listenSelect(True)\n",
    "plot.triggerPrint()"
   ]
  },
  {
   "cell_type": "code",
   "execution_count": 701,
   "metadata": {
    "extensions": {
     "jupyter_dashboards": {
      "version": 1,
      "views": {
       "grid_default": {
        "hidden": true
       },
       "report_default": {
        "hidden": true
       }
      }
     }
    }
   },
   "outputs": [],
   "source": [
    "#plot.listenSelect()\n",
    "plot.mark.enable_move = True"
   ]
  },
  {
   "cell_type": "code",
   "execution_count": 607,
   "metadata": {},
   "outputs": [
    {
     "ename": "TypeError",
     "evalue": "on_drag() takes at least 2 arguments (1 given)",
     "output_type": "error",
     "traceback": [
      "\u001b[0;31m---------------------------------------------------------------------------\u001b[0m",
      "\u001b[0;31mTypeError\u001b[0m                                 Traceback (most recent call last)",
      "\u001b[0;32m<ipython-input-607-9074d6265465>\u001b[0m in \u001b[0;36m<module>\u001b[0;34m()\u001b[0m\n\u001b[0;32m----> 1\u001b[0;31m \u001b[0mplot\u001b[0m\u001b[0;34m.\u001b[0m\u001b[0mmark\u001b[0m\u001b[0;34m.\u001b[0m\u001b[0mon_drag\u001b[0m\u001b[0;34m(\u001b[0m\u001b[0;34m)\u001b[0m\u001b[0;34m\u001b[0m\u001b[0m\n\u001b[0m",
      "\u001b[0;31mTypeError\u001b[0m: on_drag() takes at least 2 arguments (1 given)"
     ]
    }
   ],
   "source": [
    "plot.mark.on_drag()"
   ]
  },
  {
   "cell_type": "code",
   "execution_count": 618,
   "metadata": {
    "extensions": {
     "jupyter_dashboards": {
      "version": 1,
      "views": {
       "grid_default": {
        "hidden": true
       },
       "report_default": {
        "hidden": true
       }
      }
     }
    }
   },
   "outputs": [],
   "source": []
  },
  {
   "cell_type": "code",
   "execution_count": 439,
   "metadata": {
    "extensions": {
     "jupyter_dashboards": {
      "version": 1,
      "views": {
       "grid_default": {
        "hidden": true
       },
       "report_default": {
        "hidden": true
       }
      }
     }
    }
   },
   "outputs": [],
   "source": [
    "plot.figure.fig_margin=dict(top=40, bottom=40, left=40, right=150)\n",
    "plot.box.layout.align_items ='center'\n",
    "plot.box.layout.width = '900px'\n",
    "plot.figure.layout.width='100%'\n",
    "plot.figure.title ='Hello world'\n",
    "#plot.mark.min_aspect_ratio =3\n",
    "#plot.figure.max_aspect_ratio = 1\n",
    "plot.figure.min_aspect_ratio  = 0.3"
   ]
  },
  {
   "cell_type": "code",
   "execution_count": 575,
   "metadata": {
    "extensions": {
     "jupyter_dashboards": {
      "version": 1,
      "views": {
       "grid_default": {},
       "report_default": {
        "hidden": true
       }
      }
     }
    }
   },
   "outputs": [],
   "source": [
    "plot.box.layout.align_items ='flex-end'\n",
    "plot.box.layout.justify_content ='flex-start'"
   ]
  },
  {
   "cell_type": "code",
   "execution_count": 557,
   "metadata": {
    "extensions": {
     "jupyter_dashboards": {
      "version": 1,
      "views": {
       "grid_default": {},
       "report_default": {
        "hidden": true
       }
      }
     }
    }
   },
   "outputs": [],
   "source": [
    "plot.box.layout.width = '100%'"
   ]
  },
  {
   "cell_type": "code",
   "execution_count": 464,
   "metadata": {
    "extensions": {
     "jupyter_dashboards": {
      "version": 1,
      "views": {
       "grid_default": {
        "hidden": true
       },
       "report_default": {
        "hidden": true
       }
      }
     }
    }
   },
   "outputs": [],
   "source": [
    "plot.box.layout.width=\"40%\""
   ]
  },
  {
   "cell_type": "code",
   "execution_count": 443,
   "metadata": {
    "extensions": {
     "jupyter_dashboards": {
      "version": 1,
      "views": {
       "grid_default": {
        "hidden": true
       },
       "report_default": {
        "hidden": true
       }
      }
     }
    }
   },
   "outputs": [],
   "source": [
    "plot.axes.color.label = 'ee'\n",
    "plot.axes.color.label_location = 'start'\n",
    "#plot.axes.color.side = 'top'\n",
    "#plot.axes.color.orientation = 'horizontal'"
   ]
  },
  {
   "cell_type": "code",
   "execution_count": 592,
   "metadata": {
    "extensions": {
     "jupyter_dashboards": {
      "version": 1,
      "views": {
       "grid_default": {},
       "report_default": {
        "hidden": true
       }
      }
     }
    }
   },
   "outputs": [
    {
     "name": "stdout",
     "output_type": "stream",
     "text": [
      "ik\n"
     ]
    }
   ],
   "source": [
    "te = '2'\n",
    "if te:\n",
    "    print 'ik'"
   ]
  },
  {
   "cell_type": "code",
   "execution_count": null,
   "metadata": {},
   "outputs": [],
   "source": []
  }
 ],
 "metadata": {
  "extensions": {
   "jupyter_dashboards": {
    "activeView": "report_default",
    "version": 1,
    "views": {
     "grid_default": {
      "cellMargin": 10,
      "defaultCellHeight": 20,
      "maxColumns": 12,
      "name": "grid",
      "type": "grid"
     },
     "report_default": {
      "name": "report",
      "type": "report"
     }
    }
   }
  },
  "kernelspec": {
   "display_name": "Python 2",
   "language": "python",
   "name": "python2"
  },
  "language_info": {
   "codemirror_mode": {
    "name": "ipython",
    "version": 2
   },
   "file_extension": ".py",
   "mimetype": "text/x-python",
   "name": "python",
   "nbconvert_exporter": "python",
   "pygments_lexer": "ipython2",
   "version": "2.7.13"
  }
 },
 "nbformat": 4,
 "nbformat_minor": 2
}
