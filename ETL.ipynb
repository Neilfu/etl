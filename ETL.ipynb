{
 "cells": [
  {
   "cell_type": "code",
   "execution_count": 4,
   "metadata": {
    "collapsed": true
   },
   "outputs": [],
   "source": [
    "# -*- coding:utf-8 -*- "
   ]
  },
  {
   "cell_type": "code",
   "execution_count": 5,
   "metadata": {
    "collapsed": true
   },
   "outputs": [],
   "source": [
    "import pandas as pd\n",
    "import traitlets"
   ]
  },
  {
   "cell_type": "code",
   "execution_count": 6,
   "metadata": {
    "collapsed": true
   },
   "outputs": [],
   "source": [
    "import sys; \n",
    "sys.path.append('libs/')\n",
    "from table import TableChart\n",
    "from IPython.display import display\n",
    "import ipywidgets as widgets"
   ]
  },
  {
   "cell_type": "code",
   "execution_count": 7,
   "metadata": {
    "collapsed": true
   },
   "outputs": [],
   "source": [
    "df = pd.read_csv('../data/iris.csv')"
   ]
  },
  {
   "cell_type": "code",
   "execution_count": 8,
   "metadata": {
    "collapsed": true
   },
   "outputs": [],
   "source": [
    "class EtlCommand(traitlets.HasTraits):\n",
    "    \n",
    "    _df = pd.DataFrame()\n",
    "    #_data = traitlets.Dict()\n",
    "    #_header = traitlets.Dict()\n",
    "    _table = None\n",
    "    _show = False\n",
    "    _GUI = None\n",
    " \n",
    "    def __init__(self,df):\n",
    "        self._df = df\n",
    "        self._data = df.values.tolist()\n",
    "        self._header = df.columns.values.tolist()\n",
    "        self._table = TableChart(self._header,self._data)\n",
    "    \n",
    "    def drop(self,**kargs):\n",
    "        col_value = kargs.get('col')\n",
    "        if col_value and col_value in self._header:\n",
    "            self._df.drop(col_value,axis=1,inplace=True)\n",
    "            self.update()\n",
    "        else:\n",
    "            raise Exception('col is not valid, must be in list[{}]'.format(self._df.columns.values.tolist()))\n",
    "    \n",
    "    def update(self):\n",
    "        #self._data = df.values.tolist()\n",
    "        #self._header = df.columns.values.tolist()\n",
    "        if self._show:\n",
    "            self._table.model.data = self._df.values.tolist()\n",
    "            self._table.model.header = self._df.columns.values.tolist()\n",
    "            display(self._GUI)\n",
    "    \n",
    "    def showTable(self,enable=True):\n",
    "        if isinstance(enable,bool):\n",
    "            self._show = enable\n",
    "        else:\n",
    "            raise Exception('display must be bool value')\n",
    "        if self._show:\n",
    "            self.show_handle = display(self._table)\n",
    "        else:\n",
    "            self._table.close()\n",
    "            self._show = False\n",
    "     \n",
    "    def showGUI(self):\n",
    "        self._GUI = EtlGUI(self,{'operation':'drop','col':df.columns.values.tolist()})\n",
    "        display(self._GUI)\n"
   ]
  },
  {
   "cell_type": "code",
   "execution_count": 9,
   "metadata": {
    "collapsed": true
   },
   "outputs": [],
   "source": [
    "class EtlGUI(widgets.HBox):\n",
    "    \n",
    "    _cmds = None\n",
    "    \n",
    "    def __init__(self,cmds,kargs=[]):\n",
    "        super(EtlGUI,self).__init__()\n",
    "        self._cmds = cmds\n",
    "        self._args = self.fillArgs(**kargs)\n",
    "        self._btn_ok = widgets.Button(description=u'确认',layout=widgets.Layout(width='10%',))\n",
    "        self.children = [self._lb_operation,self._args,self._btn_ok]\n",
    "        self.layout = widgets.Layout(width=\"100%\",display='flex-flow',flex_flow='row', justify_content=u'flex-start')\n",
    "        self._btn_ok.on_click(self.execute)\n",
    "        \n",
    "    def execute(self,a):\n",
    "        cmd_label = self._lb_operation.value\n",
    "        action_handler = getattr(self._cmds,cmd_label)\n",
    "        if not action_handler:\n",
    "            raise Exception('label:{} is not a valid ETL command '.format(cmd_label))\n",
    "        args = {}\n",
    "        for arg in self._args.children:\n",
    "            arg_name = arg.children[0].value\n",
    "            arg_value = arg.children[1].value\n",
    "            args[arg_name] = arg_value\n",
    "        action_handler(**args)\n",
    "        \n",
    "    \n",
    "    def fillArgs(self,**kargs):\n",
    "        width_auto =  '{}%'.format(100 / len(kargs))\n",
    "        input_args = []\n",
    "        for arg in kargs:\n",
    "            value = kargs[arg]\n",
    "            if arg ==u'operation':\n",
    "                self._lb_operation = widgets.Label(value,layout=widgets.Layout(width='10%'))\n",
    "                continue\n",
    "            if isinstance(value,int):\n",
    "                widget_arg = widgets.IntText(value)\n",
    "            elif isinstance(value,list):\n",
    "                widget_arg = widgets.Dropdown(options=value)\n",
    "            elif isinstance(value,str):\n",
    "                widget_arg = widgets.Text(value)\n",
    "            group_arg = widgets.HBox(layout=widgets.Layout(width=width_auto))\n",
    "            width_arg_label = '{}px'.format(len(arg)*16)\n",
    "            group_arg.children = [widgets.Label(arg,layout=widgets.Layout(width=width_arg_label)),widget_arg]\n",
    "            input_args.append(group_arg)\n",
    "        \n",
    "        arg_hbox = widgets.HBox(layout=widgets.Layout(width='80%'))\n",
    "        arg_hbox.children = input_args\n",
    "        return arg_hbox\n",
    "                \n",
    "            \n",
    "             \n",
    "        \n",
    "    \n",
    "    "
   ]
  },
  {
   "cell_type": "code",
   "execution_count": 10,
   "metadata": {},
   "outputs": [
    {
     "data": {
      "application/vnd.jupyter.widget-view+json": {
       "model_id": "92a48a27a3ae4b9684d5696811e5f6c9",
       "version_major": 2,
       "version_minor": 0
      },
      "text/html": [
       "<p>Failed to display Jupyter Widget of type <code>TableChart</code>.</p>\n",
       "<p>\n",
       "  If you're reading this message in Jupyter Notebook or JupyterLab, it may mean\n",
       "  that the widgets JavaScript is still loading. If this message persists, it\n",
       "  likely means that the widgets JavaScript library is either not installed or\n",
       "  not enabled. See the <a href=\"https://ipywidgets.readthedocs.io/en/stable/user_install.html\">Jupyter\n",
       "  Widgets Documentation</a> for setup instructions.\n",
       "</p>\n",
       "<p>\n",
       "  If you're reading this message in another notebook frontend (for example, a static\n",
       "  rendering on GitHub or <a href=\"https://nbviewer.jupyter.org/\">NBViewer</a>),\n",
       "  it may mean that your frontend doesn't currently support widgets.\n",
       "</p>\n"
      ],
      "text/plain": [
       "TableChart(children=(HTML(value=u\"<table class='rendered_html table'> \\n                          <tr>\\n                               <th>petalLength</th> <th>petalWidth</th> <th>sepalLength</th> <th>sepalWidth</th> <th>species</th>\\n                          </tr>  \\n                           \\n                              <tr> \\n                                   \\n                                      <td> 1.4 </td> \\n                                   \\n                                      <td> 0.2 </td> \\n                                   \\n                                      <td> 5.1 </td> \\n                                   \\n                                      <td> 3.5 </td> \\n                                   \\n                                      <td> setosa </td> \\n                                  \\n                              </tr> \\n                           \\n                              <tr> \\n                                   \\n                                      <td> 1.4 </td> \\n                                   \\n                                      <td> 0.2 </td> \\n                                   \\n                                      <td> 4.9 </td> \\n                                   \\n                                      <td> 3.0 </td> \\n                                   \\n                                      <td> setosa </td> \\n                                  \\n                              </tr> \\n                           \\n                              <tr> \\n                                   \\n                                      <td> 1.3 </td> \\n                                   \\n                                      <td> 0.2 </td> \\n                                   \\n                                      <td> 4.7 </td> \\n                                   \\n                                      <td> 3.2 </td> \\n                                   \\n                                      <td> setosa </td> \\n                                  \\n                              </tr> \\n                           \\n                              <tr> \\n                                   \\n                                      <td> 1.5 </td> \\n                                   \\n                                      <td> 0.2 </td> \\n                                   \\n                                      <td> 4.6 </td> \\n                                   \\n                                      <td> 3.1 </td> \\n                                   \\n                                      <td> setosa </td> \\n                                  \\n                              </tr> \\n                           \\n                              <tr> \\n                                   \\n                                      <td> 1.4 </td> \\n                                   \\n                                      <td> 0.2 </td> \\n                                   \\n                                      <td> 5.0 </td> \\n                                   \\n                                      <td> 3.6 </td> \\n                                   \\n                                      <td> setosa </td> \\n                                  \\n                              </tr> \\n                           \\n                              <tr> \\n                                   \\n                                      <td> 1.7 </td> \\n                                   \\n                                      <td> 0.4 </td> \\n                                   \\n                                      <td> 5.4 </td> \\n                                   \\n                                      <td> 3.9 </td> \\n                                   \\n                                      <td> setosa </td> \\n                                  \\n                              </tr> \\n                           \\n                              <tr> \\n                                   \\n                                      <td> 1.4 </td> \\n                                   \\n                                      <td> 0.3 </td> \\n                                   \\n                                      <td> 4.6 </td> \\n                                   \\n                                      <td> 3.4 </td> \\n                                   \\n                                      <td> setosa </td> \\n                                  \\n                              </tr> \\n                           \\n                              <tr> \\n                                   \\n                                      <td> 1.5 </td> \\n                                   \\n                                      <td> 0.2 </td> \\n                                   \\n                                      <td> 5.0 </td> \\n                                   \\n                                      <td> 3.4 </td> \\n                                   \\n                                      <td> setosa </td> \\n                                  \\n                              </tr> \\n                           \\n                              <tr> \\n                                   \\n                                      <td> 1.4 </td> \\n                                   \\n                                      <td> 0.2 </td> \\n                                   \\n                                      <td> 4.4 </td> \\n                                   \\n                                      <td> 2.9 </td> \\n                                   \\n                                      <td> setosa </td> \\n                                  \\n                              </tr> \\n                           \\n                              <tr> \\n                                   \\n                                      <td> 1.5 </td> \\n                                   \\n                                      <td> 0.1 </td> \\n                                   \\n                                      <td> 4.9 </td> \\n                                   \\n                                      <td> 3.1 </td> \\n                                   \\n                                      <td> setosa </td> \\n                                  \\n                              </tr> \\n                           \\n                      </table>\\n                  \"), HBox(children=(HTML(value=u'\\u5f53\\u524d\\u7b2c1\\u9875\\uff0c\\u517115\\u9875'), Button(icon=u'step-backward', style=ButtonStyle(), tooltip=u'\\u7b2c\\u4e00\\u9875'), Button(icon=u'chevron-left', style=ButtonStyle(), tooltip=u'\\u4e0a\\u4e00\\u9875'), Button(icon=u'chevron-right', style=ButtonStyle(), tooltip=u'\\u4e0b\\u4e00\\u9875'), Button(icon=u'step-forward', style=ButtonStyle(), tooltip=u'\\u6700\\u540e\\u9875')), layout=Layout(display=u'flex-flow', flex_flow=u'row', justify_content=u'space-around', width=u'100%'))))"
      ]
     },
     "metadata": {},
     "output_type": "display_data"
    }
   ],
   "source": [
    "cmd = EtlCommand(df)\n",
    "cmd.showTable()"
   ]
  },
  {
   "cell_type": "code",
   "execution_count": 11,
   "metadata": {},
   "outputs": [
    {
     "data": {
      "application/vnd.jupyter.widget-view+json": {
       "model_id": "910e7a80f8a14028a0e3da51c0d616d5",
       "version_major": 2,
       "version_minor": 0
      },
      "text/html": [
       "<p>Failed to display Jupyter Widget of type <code>EtlGUI</code>.</p>\n",
       "<p>\n",
       "  If you're reading this message in Jupyter Notebook or JupyterLab, it may mean\n",
       "  that the widgets JavaScript is still loading. If this message persists, it\n",
       "  likely means that the widgets JavaScript library is either not installed or\n",
       "  not enabled. See the <a href=\"https://ipywidgets.readthedocs.io/en/stable/user_install.html\">Jupyter\n",
       "  Widgets Documentation</a> for setup instructions.\n",
       "</p>\n",
       "<p>\n",
       "  If you're reading this message in another notebook frontend (for example, a static\n",
       "  rendering on GitHub or <a href=\"https://nbviewer.jupyter.org/\">NBViewer</a>),\n",
       "  it may mean that your frontend doesn't currently support widgets.\n",
       "</p>\n"
      ],
      "text/plain": [
       "EtlGUI(children=(Label(value=u'drop', layout=Layout(width=u'10%')), HBox(children=(HBox(children=(Label(value=u'col', layout=Layout(width=u'48px')), Dropdown(options=('petalLength', 'petalWidth', 'sepalLength', 'sepalWidth', 'species'), value='petalLength')), layout=Layout(width=u'50%')),), layout=Layout(width=u'80%')), Button(description=u'\\u786e\\u8ba4', layout=Layout(width=u'10%'), style=ButtonStyle())), layout=Layout(display=u'flex-flow', flex_flow=u'row', justify_content=u'flex-start', width=u'100%'))"
      ]
     },
     "metadata": {},
     "output_type": "display_data"
    },
    {
     "data": {
      "application/vnd.jupyter.widget-view+json": {
       "model_id": "910e7a80f8a14028a0e3da51c0d616d5",
       "version_major": 2,
       "version_minor": 0
      },
      "text/html": [
       "<p>Failed to display Jupyter Widget of type <code>EtlGUI</code>.</p>\n",
       "<p>\n",
       "  If you're reading this message in Jupyter Notebook or JupyterLab, it may mean\n",
       "  that the widgets JavaScript is still loading. If this message persists, it\n",
       "  likely means that the widgets JavaScript library is either not installed or\n",
       "  not enabled. See the <a href=\"https://ipywidgets.readthedocs.io/en/stable/user_install.html\">Jupyter\n",
       "  Widgets Documentation</a> for setup instructions.\n",
       "</p>\n",
       "<p>\n",
       "  If you're reading this message in another notebook frontend (for example, a static\n",
       "  rendering on GitHub or <a href=\"https://nbviewer.jupyter.org/\">NBViewer</a>),\n",
       "  it may mean that your frontend doesn't currently support widgets.\n",
       "</p>\n"
      ],
      "text/plain": [
       "EtlGUI(children=(Label(value=u'drop', layout=Layout(width=u'10%')), HBox(children=(HBox(children=(Label(value=u'col', layout=Layout(width=u'48px')), Dropdown(options=('petalLength', 'petalWidth', 'sepalLength', 'sepalWidth', 'species'), value='petalLength')), layout=Layout(width=u'50%')),), layout=Layout(width=u'80%')), Button(description=u'\\u786e\\u8ba4', layout=Layout(width=u'10%'), style=ButtonStyle())), layout=Layout(display=u'flex-flow', flex_flow=u'row', justify_content=u'flex-start', width=u'100%'))"
      ]
     },
     "metadata": {},
     "output_type": "display_data"
    },
    {
     "ename": "ValueError",
     "evalue": "labels ['petalLength'] not contained in axis",
     "output_type": "error",
     "traceback": [
      "\u001b[0;31m---------------------------------------------------------------------------\u001b[0m",
      "\u001b[0;31mValueError\u001b[0m                                Traceback (most recent call last)",
      "\u001b[0;32m<ipython-input-9-62c04bcb38c0>\u001b[0m in \u001b[0;36mexecute\u001b[0;34m(self, a)\u001b[0m\n\u001b[1;32m     22\u001b[0m             \u001b[0marg_value\u001b[0m \u001b[0;34m=\u001b[0m \u001b[0marg\u001b[0m\u001b[0;34m.\u001b[0m\u001b[0mchildren\u001b[0m\u001b[0;34m[\u001b[0m\u001b[0;36m1\u001b[0m\u001b[0;34m]\u001b[0m\u001b[0;34m.\u001b[0m\u001b[0mvalue\u001b[0m\u001b[0;34m\u001b[0m\u001b[0m\n\u001b[1;32m     23\u001b[0m             \u001b[0margs\u001b[0m\u001b[0;34m[\u001b[0m\u001b[0marg_name\u001b[0m\u001b[0;34m]\u001b[0m \u001b[0;34m=\u001b[0m \u001b[0marg_value\u001b[0m\u001b[0;34m\u001b[0m\u001b[0m\n\u001b[0;32m---> 24\u001b[0;31m         \u001b[0maction_handler\u001b[0m\u001b[0;34m(\u001b[0m\u001b[0;34m**\u001b[0m\u001b[0margs\u001b[0m\u001b[0;34m)\u001b[0m\u001b[0;34m\u001b[0m\u001b[0m\n\u001b[0m\u001b[1;32m     25\u001b[0m \u001b[0;34m\u001b[0m\u001b[0m\n\u001b[1;32m     26\u001b[0m \u001b[0;34m\u001b[0m\u001b[0m\n",
      "\u001b[0;32m<ipython-input-8-8149231e819e>\u001b[0m in \u001b[0;36mdrop\u001b[0;34m(self, **kargs)\u001b[0m\n\u001b[1;32m     17\u001b[0m         \u001b[0mcol_value\u001b[0m \u001b[0;34m=\u001b[0m \u001b[0mkargs\u001b[0m\u001b[0;34m.\u001b[0m\u001b[0mget\u001b[0m\u001b[0;34m(\u001b[0m\u001b[0;34m'col'\u001b[0m\u001b[0;34m)\u001b[0m\u001b[0;34m\u001b[0m\u001b[0m\n\u001b[1;32m     18\u001b[0m         \u001b[0;32mif\u001b[0m \u001b[0mcol_value\u001b[0m \u001b[0;32mand\u001b[0m \u001b[0mcol_value\u001b[0m \u001b[0;32min\u001b[0m \u001b[0mself\u001b[0m\u001b[0;34m.\u001b[0m\u001b[0m_header\u001b[0m\u001b[0;34m:\u001b[0m\u001b[0;34m\u001b[0m\u001b[0m\n\u001b[0;32m---> 19\u001b[0;31m             \u001b[0mself\u001b[0m\u001b[0;34m.\u001b[0m\u001b[0m_df\u001b[0m\u001b[0;34m.\u001b[0m\u001b[0mdrop\u001b[0m\u001b[0;34m(\u001b[0m\u001b[0mcol_value\u001b[0m\u001b[0;34m,\u001b[0m\u001b[0maxis\u001b[0m\u001b[0;34m=\u001b[0m\u001b[0;36m1\u001b[0m\u001b[0;34m,\u001b[0m\u001b[0minplace\u001b[0m\u001b[0;34m=\u001b[0m\u001b[0mTrue\u001b[0m\u001b[0;34m)\u001b[0m\u001b[0;34m\u001b[0m\u001b[0m\n\u001b[0m\u001b[1;32m     20\u001b[0m             \u001b[0mself\u001b[0m\u001b[0;34m.\u001b[0m\u001b[0mupdate\u001b[0m\u001b[0;34m(\u001b[0m\u001b[0;34m)\u001b[0m\u001b[0;34m\u001b[0m\u001b[0m\n\u001b[1;32m     21\u001b[0m         \u001b[0;32melse\u001b[0m\u001b[0;34m:\u001b[0m\u001b[0;34m\u001b[0m\u001b[0m\n",
      "\u001b[0;32m/root/anaconda2/lib/python2.7/site-packages/pandas/core/generic.pyc\u001b[0m in \u001b[0;36mdrop\u001b[0;34m(self, labels, axis, level, inplace, errors)\u001b[0m\n\u001b[1;32m   2159\u001b[0m                 \u001b[0mnew_axis\u001b[0m \u001b[0;34m=\u001b[0m \u001b[0maxis\u001b[0m\u001b[0;34m.\u001b[0m\u001b[0mdrop\u001b[0m\u001b[0;34m(\u001b[0m\u001b[0mlabels\u001b[0m\u001b[0;34m,\u001b[0m \u001b[0mlevel\u001b[0m\u001b[0;34m=\u001b[0m\u001b[0mlevel\u001b[0m\u001b[0;34m,\u001b[0m \u001b[0merrors\u001b[0m\u001b[0;34m=\u001b[0m\u001b[0merrors\u001b[0m\u001b[0;34m)\u001b[0m\u001b[0;34m\u001b[0m\u001b[0m\n\u001b[1;32m   2160\u001b[0m             \u001b[0;32melse\u001b[0m\u001b[0;34m:\u001b[0m\u001b[0;34m\u001b[0m\u001b[0m\n\u001b[0;32m-> 2161\u001b[0;31m                 \u001b[0mnew_axis\u001b[0m \u001b[0;34m=\u001b[0m \u001b[0maxis\u001b[0m\u001b[0;34m.\u001b[0m\u001b[0mdrop\u001b[0m\u001b[0;34m(\u001b[0m\u001b[0mlabels\u001b[0m\u001b[0;34m,\u001b[0m \u001b[0merrors\u001b[0m\u001b[0;34m=\u001b[0m\u001b[0merrors\u001b[0m\u001b[0;34m)\u001b[0m\u001b[0;34m\u001b[0m\u001b[0m\n\u001b[0m\u001b[1;32m   2162\u001b[0m             \u001b[0mdropped\u001b[0m \u001b[0;34m=\u001b[0m \u001b[0mself\u001b[0m\u001b[0;34m.\u001b[0m\u001b[0mreindex\u001b[0m\u001b[0;34m(\u001b[0m\u001b[0;34m**\u001b[0m\u001b[0;34m{\u001b[0m\u001b[0maxis_name\u001b[0m\u001b[0;34m:\u001b[0m \u001b[0mnew_axis\u001b[0m\u001b[0;34m}\u001b[0m\u001b[0;34m)\u001b[0m\u001b[0;34m\u001b[0m\u001b[0m\n\u001b[1;32m   2163\u001b[0m             \u001b[0;32mtry\u001b[0m\u001b[0;34m:\u001b[0m\u001b[0;34m\u001b[0m\u001b[0m\n",
      "\u001b[0;32m/root/anaconda2/lib/python2.7/site-packages/pandas/core/indexes/base.pyc\u001b[0m in \u001b[0;36mdrop\u001b[0;34m(self, labels, errors)\u001b[0m\n\u001b[1;32m   3622\u001b[0m             \u001b[0;32mif\u001b[0m \u001b[0merrors\u001b[0m \u001b[0;34m!=\u001b[0m \u001b[0;34m'ignore'\u001b[0m\u001b[0;34m:\u001b[0m\u001b[0;34m\u001b[0m\u001b[0m\n\u001b[1;32m   3623\u001b[0m                 raise ValueError('labels %s not contained in axis' %\n\u001b[0;32m-> 3624\u001b[0;31m                                  labels[mask])\n\u001b[0m\u001b[1;32m   3625\u001b[0m             \u001b[0mindexer\u001b[0m \u001b[0;34m=\u001b[0m \u001b[0mindexer\u001b[0m\u001b[0;34m[\u001b[0m\u001b[0;34m~\u001b[0m\u001b[0mmask\u001b[0m\u001b[0;34m]\u001b[0m\u001b[0;34m\u001b[0m\u001b[0m\n\u001b[1;32m   3626\u001b[0m         \u001b[0;32mreturn\u001b[0m \u001b[0mself\u001b[0m\u001b[0;34m.\u001b[0m\u001b[0mdelete\u001b[0m\u001b[0;34m(\u001b[0m\u001b[0mindexer\u001b[0m\u001b[0;34m)\u001b[0m\u001b[0;34m\u001b[0m\u001b[0m\n",
      "\u001b[0;31mValueError\u001b[0m: labels ['petalLength'] not contained in axis"
     ]
    },
    {
     "data": {
      "application/vnd.jupyter.widget-view+json": {
       "model_id": "910e7a80f8a14028a0e3da51c0d616d5",
       "version_major": 2,
       "version_minor": 0
      },
      "text/html": [
       "<p>Failed to display Jupyter Widget of type <code>EtlGUI</code>.</p>\n",
       "<p>\n",
       "  If you're reading this message in Jupyter Notebook or JupyterLab, it may mean\n",
       "  that the widgets JavaScript is still loading. If this message persists, it\n",
       "  likely means that the widgets JavaScript library is either not installed or\n",
       "  not enabled. See the <a href=\"https://ipywidgets.readthedocs.io/en/stable/user_install.html\">Jupyter\n",
       "  Widgets Documentation</a> for setup instructions.\n",
       "</p>\n",
       "<p>\n",
       "  If you're reading this message in another notebook frontend (for example, a static\n",
       "  rendering on GitHub or <a href=\"https://nbviewer.jupyter.org/\">NBViewer</a>),\n",
       "  it may mean that your frontend doesn't currently support widgets.\n",
       "</p>\n"
      ],
      "text/plain": [
       "EtlGUI(children=(Label(value=u'drop', layout=Layout(width=u'10%')), HBox(children=(HBox(children=(Label(value=u'col', layout=Layout(width=u'48px')), Dropdown(index=4, options=('petalLength', 'petalWidth', 'sepalLength', 'sepalWidth', 'species'), value='species')), layout=Layout(width=u'50%')),), layout=Layout(width=u'80%')), Button(description=u'\\u786e\\u8ba4', layout=Layout(width=u'10%'), style=ButtonStyle())), layout=Layout(display=u'flex-flow', flex_flow=u'row', justify_content=u'flex-start', width=u'100%'))"
      ]
     },
     "metadata": {},
     "output_type": "display_data"
    },
    {
     "data": {
      "application/vnd.jupyter.widget-view+json": {
       "model_id": "910e7a80f8a14028a0e3da51c0d616d5",
       "version_major": 2,
       "version_minor": 0
      },
      "text/html": [
       "<p>Failed to display Jupyter Widget of type <code>EtlGUI</code>.</p>\n",
       "<p>\n",
       "  If you're reading this message in Jupyter Notebook or JupyterLab, it may mean\n",
       "  that the widgets JavaScript is still loading. If this message persists, it\n",
       "  likely means that the widgets JavaScript library is either not installed or\n",
       "  not enabled. See the <a href=\"https://ipywidgets.readthedocs.io/en/stable/user_install.html\">Jupyter\n",
       "  Widgets Documentation</a> for setup instructions.\n",
       "</p>\n",
       "<p>\n",
       "  If you're reading this message in another notebook frontend (for example, a static\n",
       "  rendering on GitHub or <a href=\"https://nbviewer.jupyter.org/\">NBViewer</a>),\n",
       "  it may mean that your frontend doesn't currently support widgets.\n",
       "</p>\n"
      ],
      "text/plain": [
       "EtlGUI(children=(Label(value=u'drop', layout=Layout(width=u'10%')), HBox(children=(HBox(children=(Label(value=u'col', layout=Layout(width=u'48px')), Dropdown(index=3, options=('petalLength', 'petalWidth', 'sepalLength', 'sepalWidth', 'species'), value='sepalWidth')), layout=Layout(width=u'50%')),), layout=Layout(width=u'80%')), Button(description=u'\\u786e\\u8ba4', layout=Layout(width=u'10%'), style=ButtonStyle())), layout=Layout(display=u'flex-flow', flex_flow=u'row', justify_content=u'flex-start', width=u'100%'))"
      ]
     },
     "metadata": {},
     "output_type": "display_data"
    }
   ],
   "source": [
    "cmd.showGUI()"
   ]
  },
  {
   "cell_type": "code",
   "execution_count": 12,
   "metadata": {
    "collapsed": true
   },
   "outputs": [],
   "source": [
    "import IPython"
   ]
  },
  {
   "cell_type": "code",
   "execution_count": 13,
   "metadata": {},
   "outputs": [
    {
     "ename": "NameError",
     "evalue": "name 'widge' is not defined",
     "output_type": "error",
     "traceback": [
      "\u001b[0;31m---------------------------------------------------------------------------\u001b[0m",
      "\u001b[0;31mNameError\u001b[0m                                 Traceback (most recent call last)",
      "\u001b[0;32m<ipython-input-13-5a5de936bd72>\u001b[0m in \u001b[0;36m<module>\u001b[0;34m()\u001b[0m\n\u001b[0;32m----> 1\u001b[0;31m \u001b[0mwidge\u001b[0m\u001b[0;34m\u001b[0m\u001b[0m\n\u001b[0m",
      "\u001b[0;31mNameError\u001b[0m: name 'widge' is not defined"
     ]
    }
   ],
   "source": [
    "widge"
   ]
  }
 ],
 "metadata": {
  "kernelspec": {
   "display_name": "Python 3",
   "language": "python",
   "name": "python3"
  },
  "language_info": {
   "codemirror_mode": {
    "name": "ipython",
    "version": 3
   },
   "file_extension": ".py",
   "mimetype": "text/x-python",
   "name": "python",
   "nbconvert_exporter": "python",
   "pygments_lexer": "ipython3",
   "version": "3.6.3"
  },
  "varInspector": {
   "cols": {
    "lenName": 16,
    "lenType": 16,
    "lenVar": 40
   },
   "kernels_config": {
    "python": {
     "delete_cmd_postfix": "",
     "delete_cmd_prefix": "del ",
     "library": "var_list.py",
     "varRefreshCmd": "print(var_dic_list())"
    },
    "r": {
     "delete_cmd_postfix": ") ",
     "delete_cmd_prefix": "rm(",
     "library": "var_list.r",
     "varRefreshCmd": "cat(var_dic_list()) "
    }
   },
   "types_to_exclude": [
    "module",
    "function",
    "builtin_function_or_method",
    "instance",
    "_Feature"
   ],
   "window_display": false
  }
 },
 "nbformat": 4,
 "nbformat_minor": 2
}
