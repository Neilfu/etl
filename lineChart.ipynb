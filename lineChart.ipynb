{
 "cells": [
  {
   "cell_type": "code",
   "execution_count": 505,
   "metadata": {
    "extensions": {
     "jupyter_dashboards": {
      "version": 1,
      "views": {
       "grid_default": {
        "hidden": true
       },
       "report_default": {
        "hidden": true
       }
      }
     }
    }
   },
   "outputs": [],
   "source": [
    "import pandas as pd\n",
    "from bqplot import *\n",
    "from dateutil.parser import parse\n",
    "from ipywidgets import interact, interactive, fixed, interact_manual,Layout,Box\n",
    "import ipywidgets as widgets\n",
    "from IPython.display import display"
   ]
  },
  {
   "cell_type": "code",
   "execution_count": 378,
   "metadata": {
    "extensions": {
     "jupyter_dashboards": {
      "version": 1,
      "views": {
       "grid_default": {
        "col": 0,
        "height": 21,
        "hidden": true,
        "row": 0,
        "width": 12
       },
       "report_default": {
        "hidden": true
       }
      }
     }
    }
   },
   "outputs": [],
   "source": [
    "df = pd.read_csv('data/sku_comment_20170110_200k_bfd.csv')\n",
    "df['comment_create_tm'] = pd.to_datetime(df.comment_create_tm)\n",
    "df['shelves_dt'] = pd.to_datetime(df.shelves_dt)"
   ]
  },
  {
   "cell_type": "code",
   "execution_count": 379,
   "metadata": {
    "extensions": {
     "jupyter_dashboards": {
      "version": 1,
      "views": {
       "grid_default": {
        "hidden": true
       },
       "report_default": {
        "hidden": true
       }
      }
     }
    }
   },
   "outputs": [],
   "source": [
    "period = widgets.Dropdown(options=('S','T','H','D','W','M','Q'),value='D')\n",
    "how = widgets.Dropdown(options=('sum','mean'),value='sum')\n",
    "ts_shelve = df.groupby('shelves_dt').count()['comment_id'].reset_index()\n",
    "ts_shelve.columns = ['date','count']\n",
    "ts_shelve.index = ts_shelve.date\n",
    "ts_score = df.groupby('shelves_dt').sum()['score'].reset_index()\n",
    "ts_score.columns = ['date','sum']\n",
    "ts_score.index = ts_score.date"
   ]
  },
  {
   "cell_type": "code",
   "execution_count": 671,
   "metadata": {
    "extensions": {
     "jupyter_dashboards": {
      "version": 1,
      "views": {
       "grid_default": {
        "hidden": true
       },
       "report_default": {
        "hidden": true
       }
      }
     }
    }
   },
   "outputs": [],
   "source": [
    "class LineChart(object):\n",
    "    def __init__(self,**args):\n",
    "        self.df = args.get('df')\n",
    "        self.x = args.get('x')\n",
    "        self.y = args.get('y')\n",
    "        self.sc_x = DateScale()\n",
    "        self.sc_y = LinearScale()\n",
    "        self.v_period = 'Q'\n",
    "        self.v_how = 'sum'\n",
    "        self._title = ''\n",
    "        self.charts = []\n",
    "        self.df_agg = getattr(self.df.resample(self.v_period),self.v_how)().reset_index()\n",
    "        line = Lines(x=self.df_agg[self.x], y=self.df_agg[self.y], scales={'x':self.sc_x,'y':self.sc_y})\n",
    "        self.charts.append(line)\n",
    "        self.ax_x = Axis(scale=dt_x,tick_format='%Y/%m/%d', grid_lines='solid')\n",
    "        self.ax_y = Axis(scale=sc_y, orientation='vertical')\n",
    "        self.fig = Figure(marks=self.charts, axes=[self.ax_x, self.ax_y],title='test')\n",
    "\n",
    "    \n",
    "    def show(self):\n",
    "        self.box_layout = Layout(display='flex',flex_flow='row nowrap',border='solid',width='100%')\n",
    "        self.children = [self.fig]\n",
    "        self.box = Box(children= self.children, layout=self.box_layout)\n",
    "        display(self.box)\n",
    "        \n",
    "    def setting(self):\n",
    "        self.period = widgets.Dropdown(options=('S','T','H','D','W','M','Q'),value='Q')\n",
    "        self.how = widgets.Dropdown(options=('sum','mean','median','max','min'),value='sum')\n",
    "        self._title = widgets.Text('please set chart title')\n",
    "        self.period.observe(self.getPeriod, 'value')\n",
    "        self.how.observe(self.getHow, 'value')\n",
    "        \n",
    "        display(self.period,self.how,self._title)\n",
    "        self._title.observe(self.getTitle,'value')\n",
    " \n",
    "    def getPeriod(self,change):\n",
    "        self.v_period = change['new']\n",
    "        self.df_agg = getattr(self.df.resample(self.v_period),self.v_how)()\n",
    "        self.charts[0].x = self.df_agg.index.values\n",
    "        self.charts[0].y = self.df_agg[self.y].values\n",
    "\n",
    "    def getHow(self,change):\n",
    "        self.v_how = change['new']\n",
    "\n",
    "        self.df_agg = getattr(self.df.resample(self.v_period),self.v_how)()\n",
    "        self.charts[0].y = self.df_agg[self.y].values\n",
    "    \n",
    "    def addLayer(self,**args):\n",
    "        df = args.get('df')\n",
    "        x = args.get('x')\n",
    "        y = args.get('y')\n",
    "        df = getattr(df.resample(self.v_period),self.v_how)().reset_index()\n",
    "        line = Lines(x=df[x], y=df[y], scales={'x':self.sc_x,'y':self.sc_y})\n",
    "        self.charts.append(line)\n",
    "        #self.chart = Figure(marks=[self.line,self.line1], axes=[self.ax_x, self.ax_y])\n",
    "        #display(self.chart)\n",
    "        self.fig.marks = self.charts\n",
    "    \n",
    "    def getTitle(self,change):\n",
    "        self.fig.title = change['new']\n",
    "\n",
    "    def removeLayer(self):\n",
    "        self.charts.pop()\n",
    "        self.fig.marks = self.charts\n",
    "    \n",
    "    @property\n",
    "    def title(self):\n",
    "        return self.fig.title\n",
    "\n",
    "    @title.setter\n",
    "    def title(self, name):\n",
    "        self.fig.title = name"
   ]
  },
  {
   "cell_type": "code",
   "execution_count": 735,
   "metadata": {
    "extensions": {
     "jupyter_dashboards": {
      "version": 1,
      "views": {
       "grid_default": {
        "col": null,
        "height": 27,
        "hidden": false,
        "row": 0,
        "width": null
       },
       "report_default": {
        "hidden": false
       }
      }
     }
    }
   },
   "outputs": [
    {
     "data": {
      "application/vnd.jupyter.widget-view+json": {
       "model_id": "ad1cce1973564eb99db7b13ca1130be5",
       "version_major": 2,
       "version_minor": 0
      },
      "text/html": [
       "<p>Failed to display Jupyter Widget of type <code>Box</code>.</p>\n",
       "<p>\n",
       "  If you're reading this message in Jupyter Notebook or JupyterLab, it may mean\n",
       "  that the widgets JavaScript is still loading. If this message persists, it\n",
       "  likely means that the widgets JavaScript library is either not installed or\n",
       "  not enabled. See the <a href=\"https://ipywidgets.readthedocs.io/en/stable/user_install.html\">Jupyter\n",
       "  Widgets Documentation</a> for setup instructions.\n",
       "</p>\n",
       "<p>\n",
       "  If you're reading this message in another notebook frontend (for example, a static\n",
       "  rendering on GitHub or <a href=\"https://nbviewer.jupyter.org/\">NBViewer</a>),\n",
       "  it may mean that your frontend doesn't currently support widgets.\n",
       "</p>\n"
      ],
      "text/plain": [
       "Box(children=(Figure(axes=[Axis(scale=DateScale(), tick_format=u'%Y/%m/%d'), Axis(orientation='vertical', scale=LinearScale())], fig_margin={'top': 60, 'right': 60, 'bottom': 60, 'left': 60}, layout=Layout(min_width=u'125px'), marks=[Lines(colors=['#1f77b4', '#ff7f0e', '#2ca02c', '#d62728', '#9467bd', '#8c564b', '#e377c2', '#7f7f7f', '#bcbd22', '#17becf'], interactions={'hover': 'tooltip'}, scales={'y': LinearScale(), 'x': DateScale()}, scales_metadata={'y': {'orientation': 'vertical', 'dimension': 'y'}, 'x': {'orientation': 'horizontal', 'dimension': 'x'}, 'color': {'dimension': 'color'}}, tooltip_style={'opacity': 0.9}, x=array(['2011-12-31T00:00:00.000000000', '2012-03-31T00:00:00.000000000',\n",
       "       '2012-06-30T00:00:00.000000000', '2012-09-30T00:00:00.000000000',\n",
       "       '2012-12-31T00:00:00.000000000', '2013-03-31T00:00:00.000000000',\n",
       "       '2013-06-30T00:00:00.000000000', '2013-09-30T00:00:00.000000000',\n",
       "       '2013-12-31T00:00:00.000000000', '2014-03-31T00:00:00.000000000',\n",
       "       '2014-06-30T00:00:00.000000000', '2014-09-30T00:00:00.000000000',\n",
       "       '2014-12-31T00:00:00.000000000', '2015-03-31T00:00:00.000000000',\n",
       "       '2015-06-30T00:00:00.000000000', '2015-09-30T00:00:00.000000000',\n",
       "       '2015-12-31T00:00:00.000000000', '2016-03-31T00:00:00.000000000',\n",
       "       '2016-06-30T00:00:00.000000000', '2016-09-30T00:00:00.000000000',\n",
       "       '2016-12-31T00:00:00.000000000', '2017-03-31T00:00:00.000000000'], dtype='datetime64[ns]'), y=array([  3.38000000e+00,              nan,   3.38000000e+00,\n",
       "                    nan,   8.45000000e-01,              nan,\n",
       "         3.29550000e+01,   1.85900000e+01,   3.29550000e+01,\n",
       "         1.26750000e+02,   9.97100000e+01,   1.93505000e+02,\n",
       "         4.98550000e+01,   2.58570000e+02,   7.67260000e+02,\n",
       "         8.36550000e+02,   2.73695500e+03,   2.44036000e+03,\n",
       "         8.42296000e+03,   1.42052950e+04,   1.17539500e+04,\n",
       "         1.43650000e+01]))], scale_x=LinearScale(allow_padding=False, max=1.0, min=0.0), scale_y=LinearScale(allow_padding=False, max=1.0, min=0.0), title=u'test'),), layout=Layout(border=u'solid', display=u'flex', flex_flow=u'row nowrap', width=u'100%'))"
      ]
     },
     "metadata": {},
     "output_type": "display_data"
    },
    {
     "data": {
      "application/vnd.jupyter.widget-view+json": {
       "model_id": "a96afc271f4f4d0fb08737315084928d",
       "version_major": 2,
       "version_minor": 0
      },
      "text/html": [
       "<p>Failed to display Jupyter Widget of type <code>Dropdown</code>.</p>\n",
       "<p>\n",
       "  If you're reading this message in Jupyter Notebook or JupyterLab, it may mean\n",
       "  that the widgets JavaScript is still loading. If this message persists, it\n",
       "  likely means that the widgets JavaScript library is either not installed or\n",
       "  not enabled. See the <a href=\"https://ipywidgets.readthedocs.io/en/stable/user_install.html\">Jupyter\n",
       "  Widgets Documentation</a> for setup instructions.\n",
       "</p>\n",
       "<p>\n",
       "  If you're reading this message in another notebook frontend (for example, a static\n",
       "  rendering on GitHub or <a href=\"https://nbviewer.jupyter.org/\">NBViewer</a>),\n",
       "  it may mean that your frontend doesn't currently support widgets.\n",
       "</p>\n"
      ],
      "text/plain": [
       "Dropdown(index=6, options=('S', 'T', 'H', 'D', 'W', 'M', 'Q'), value='Q')"
      ]
     },
     "metadata": {},
     "output_type": "display_data"
    },
    {
     "data": {
      "application/vnd.jupyter.widget-view+json": {
       "model_id": "f7a13bdc11b14eb28aba0723c121383b",
       "version_major": 2,
       "version_minor": 0
      },
      "text/html": [
       "<p>Failed to display Jupyter Widget of type <code>Dropdown</code>.</p>\n",
       "<p>\n",
       "  If you're reading this message in Jupyter Notebook or JupyterLab, it may mean\n",
       "  that the widgets JavaScript is still loading. If this message persists, it\n",
       "  likely means that the widgets JavaScript library is either not installed or\n",
       "  not enabled. See the <a href=\"https://ipywidgets.readthedocs.io/en/stable/user_install.html\">Jupyter\n",
       "  Widgets Documentation</a> for setup instructions.\n",
       "</p>\n",
       "<p>\n",
       "  If you're reading this message in another notebook frontend (for example, a static\n",
       "  rendering on GitHub or <a href=\"https://nbviewer.jupyter.org/\">NBViewer</a>),\n",
       "  it may mean that your frontend doesn't currently support widgets.\n",
       "</p>\n"
      ],
      "text/plain": [
       "Dropdown(options=('sum', 'mean', 'median', 'max', 'min'), value='sum')"
      ]
     },
     "metadata": {},
     "output_type": "display_data"
    },
    {
     "data": {
      "application/vnd.jupyter.widget-view+json": {
       "model_id": "e4def15c521f4a91b81e7e573663944f",
       "version_major": 2,
       "version_minor": 0
      },
      "text/html": [
       "<p>Failed to display Jupyter Widget of type <code>Text</code>.</p>\n",
       "<p>\n",
       "  If you're reading this message in Jupyter Notebook or JupyterLab, it may mean\n",
       "  that the widgets JavaScript is still loading. If this message persists, it\n",
       "  likely means that the widgets JavaScript library is either not installed or\n",
       "  not enabled. See the <a href=\"https://ipywidgets.readthedocs.io/en/stable/user_install.html\">Jupyter\n",
       "  Widgets Documentation</a> for setup instructions.\n",
       "</p>\n",
       "<p>\n",
       "  If you're reading this message in another notebook frontend (for example, a static\n",
       "  rendering on GitHub or <a href=\"https://nbviewer.jupyter.org/\">NBViewer</a>),\n",
       "  it may mean that your frontend doesn't currently support widgets.\n",
       "</p>\n"
      ],
      "text/plain": [
       "Text(value=u'please set chart title')"
      ]
     },
     "metadata": {},
     "output_type": "display_data"
    }
   ],
   "source": [
    "\n",
    "line1 = LineChart(df=ts_shelve,x='date',y='count')\n",
    "line1.show()\n",
    "line1.setting()"
   ]
  },
  {
   "cell_type": "code",
   "execution_count": 742,
   "metadata": {},
   "outputs": [],
   "source": [
    "l = line1.charts[0]\n",
    "l.visible = True\n",
    "l.labels = ['apple']\n",
    "l.apply_clip = False\n",
    "l.selected =[0]\n",
    "l.display_legend = True"
   ]
  },
  {
   "cell_type": "code",
   "execution_count": 655,
   "metadata": {},
   "outputs": [],
   "source": [
    "d = line1.children.pop()\n",
    "line1.box.children = line1.children"
   ]
  },
  {
   "cell_type": "code",
   "execution_count": 725,
   "metadata": {},
   "outputs": [],
   "source": [
    "x = line1.ax_x\n",
    "x.visible = True\n",
    "x.grid_color = 'gray'\n",
    "x.grid_lines = 'dashed'\n",
    "x.side = 'bottom'\n",
    "x.label = 'date'\n",
    "x.num_ticks = 5\n",
    "x.label_location = 'end'\n",
    "x.label_color = 'blue'\n",
    "x.label_offset = '3ex'"
   ]
  },
  {
   "cell_type": "code",
   "execution_count": 649,
   "metadata": {},
   "outputs": [],
   "source": [
    "line1.children.append(d)\n",
    "line1.box.children = line1.box.children = line1.children"
   ]
  },
  {
   "cell_type": "code",
   "execution_count": 736,
   "metadata": {
    "extensions": {
     "jupyter_dashboards": {
      "version": 1,
      "views": {
       "grid_default": {
        "hidden": true
       },
       "report_default": {}
      }
     }
    }
   },
   "outputs": [],
   "source": [
    "line1.fig.padding_x = 0.1\n",
    "line1.fig.padding_y = 0.1\n",
    "#line1.fig.min_aspect_ratio = 3\n",
    "#line1.fig.max_aspect_ratio =3.1"
   ]
  },
  {
   "cell_type": "code",
   "execution_count": 694,
   "metadata": {
    "extensions": {
     "jupyter_dashboards": {
      "version": 1,
      "views": {
       "grid_default": {
        "hidden": true
       },
       "report_default": {}
      }
     }
    }
   },
   "outputs": [],
   "source": [
    "line1.fig.fig_margin =  dict(top=30, bottom=60, left=60, right=60)"
   ]
  },
  {
   "cell_type": "code",
   "execution_count": 474,
   "metadata": {
    "extensions": {
     "jupyter_dashboards": {
      "version": 1,
      "views": {
       "grid_default": {
        "hidden": true
       },
       "report_default": {}
      }
     }
    }
   },
   "outputs": [],
   "source": [
    "l.fill = 'bottom'\n",
    "l.fill_colors =['blue']\n",
    "l.fill_opacities =[0.5]\n",
    "l.stroke_width = 3\n",
    "l.colors = ['green']\n",
    "l.opacities = [1]\n",
    "l.labels_visibility = 'label'\n",
    "l.labels = ['a']\n",
    "l.close_path = False\n",
    "l.marker = 'cross'\n",
    "l.marker_size = 10\n"
   ]
  },
  {
   "cell_type": "code",
   "execution_count": 482,
   "metadata": {
    "extensions": {
     "jupyter_dashboards": {
      "version": 1,
      "views": {
       "grid_default": {
        "col": 1,
        "height": 4,
        "hidden": true,
        "row": 0,
        "width": 4
       },
       "report_default": {}
      }
     }
    }
   },
   "outputs": [
    {
     "data": {
      "text/plain": [
       "'Lines'"
      ]
     },
     "execution_count": 482,
     "metadata": {},
     "output_type": "execute_result"
    }
   ],
   "source": [
    "l.name"
   ]
  },
  {
   "cell_type": "code",
   "execution_count": 385,
   "metadata": {
    "extensions": {
     "jupyter_dashboards": {
      "version": 1,
      "views": {
       "grid_default": {
        "hidden": true
       },
       "report_default": {}
      }
     }
    }
   },
   "outputs": [],
   "source": [
    "ts1['count'] = ts1['count'] *0.5\n",
    "line1.addLayer(df=ts1,x='date',y='count')"
   ]
  },
  {
   "cell_type": "code",
   "execution_count": 386,
   "metadata": {
    "extensions": {
     "jupyter_dashboards": {
      "version": 1,
      "views": {
       "grid_default": {
        "hidden": true
       },
       "report_default": {
        "hidden": true
       }
      }
     }
    }
   },
   "outputs": [],
   "source": [
    "line1.removeLayer()"
   ]
  },
  {
   "cell_type": "code",
   "execution_count": 420,
   "metadata": {
    "extensions": {
     "jupyter_dashboards": {
      "version": 1,
      "views": {
       "grid_default": {
        "hidden": true
       },
       "report_default": {}
      }
     }
    }
   },
   "outputs": [],
   "source": [
    "line1.fig.save_png()"
   ]
  },
  {
   "cell_type": "code",
   "execution_count": 483,
   "metadata": {
    "extensions": {
     "jupyter_dashboards": {
      "version": 1,
      "views": {
       "grid_default": {
        "hidden": true
       },
       "report_default": {}
      }
     }
    }
   },
   "outputs": [],
   "source": [
    "line1.fig.padding_x = 0.05"
   ]
  },
  {
   "cell_type": "code",
   "execution_count": 484,
   "metadata": {
    "extensions": {
     "jupyter_dashboards": {
      "version": 1,
      "views": {
       "grid_default": {
        "hidden": true
       },
       "report_default": {}
      }
     }
    }
   },
   "outputs": [],
   "source": [
    "line1.fig.padding_y = 0.05"
   ]
  },
  {
   "cell_type": "code",
   "execution_count": null,
   "metadata": {
    "extensions": {
     "jupyter_dashboards": {
      "version": 1,
      "views": {
       "grid_default": {
        "hidden": true
       },
       "report_default": {}
      }
     }
    }
   },
   "outputs": [],
   "source": []
  }
 ],
 "metadata": {
  "extensions": {
   "jupyter_dashboards": {
    "activeView": "grid_default",
    "version": 1,
    "views": {
     "grid_default": {
      "cellMargin": 10,
      "defaultCellHeight": 20,
      "maxColumns": 12,
      "name": "grid",
      "type": "grid"
     },
     "report_default": {
      "name": "report",
      "type": "report"
     }
    }
   }
  },
  "kernelspec": {
   "display_name": "Python 2",
   "language": "python",
   "name": "python2"
  },
  "language_info": {
   "codemirror_mode": {
    "name": "ipython",
    "version": 2
   },
   "file_extension": ".py",
   "mimetype": "text/x-python",
   "name": "python",
   "nbconvert_exporter": "python",
   "pygments_lexer": "ipython2",
   "version": "2.7.13"
  }
 },
 "nbformat": 4,
 "nbformat_minor": 2
}
