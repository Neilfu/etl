{
 "cells": [
  {
   "cell_type": "code",
   "execution_count": 21,
   "metadata": {},
   "outputs": [],
   "source": [
    "import sys; \n",
    "sys.path.append('../libs/')\n",
    "from table import TableChart"
   ]
  },
  {
   "cell_type": "code",
   "execution_count": 22,
   "metadata": {},
   "outputs": [],
   "source": [
    "import pandas as pd"
   ]
  },
  {
   "cell_type": "code",
   "execution_count": 23,
   "metadata": {},
   "outputs": [],
   "source": [
    "df = pd.read_csv('data/iris.csv')\n",
    "df['no'] = df.index.values\n",
    "myheader = df.columns.values.tolist()\n",
    "mybody = df.values.tolist()"
   ]
  },
  {
   "cell_type": "markdown",
   "metadata": {},
   "source": [
    "### 定义一个表格\n"
   ]
  },
  {
   "cell_type": "code",
   "execution_count": 24,
   "metadata": {},
   "outputs": [
    {
     "data": {
      "application/vnd.jupyter.widget-view+json": {
       "model_id": "56d4d13b91a34c58aec07911ff7fccad",
       "version_major": 2,
       "version_minor": 0
      },
      "text/html": [
       "<p>Failed to display Jupyter Widget of type <code>TableChart</code>.</p>\n",
       "<p>\n",
       "  If you're reading this message in Jupyter Notebook or JupyterLab, it may mean\n",
       "  that the widgets JavaScript is still loading. If this message persists, it\n",
       "  likely means that the widgets JavaScript library is either not installed or\n",
       "  not enabled. See the <a href=\"https://ipywidgets.readthedocs.io/en/stable/user_install.html\">Jupyter\n",
       "  Widgets Documentation</a> for setup instructions.\n",
       "</p>\n",
       "<p>\n",
       "  If you're reading this message in another notebook frontend (for example, a static\n",
       "  rendering on GitHub or <a href=\"https://nbviewer.jupyter.org/\">NBViewer</a>),\n",
       "  it may mean that your frontend doesn't currently support widgets.\n",
       "</p>\n"
      ],
      "text/plain": [
       "TableChart(children=(HTML(value=u\"<table class='rendered_html table'> \\n                          <tr>\\n                               <th>petalLength</th> <th>petalWidth</th> <th>sepalLength</th> <th>sepalWidth</th> <th>species</th> <th>no</th>\\n                          </tr>  \\n                           \\n                              <tr> \\n                                   \\n                                      <td> 1.4 </td> \\n                                   \\n                                      <td> 0.2 </td> \\n                                   \\n                                      <td> 5.1 </td> \\n                                   \\n                                      <td> 3.5 </td> \\n                                   \\n                                      <td> setosa </td> \\n                                   \\n                                      <td> 0 </td> \\n                                  \\n                              </tr> \\n                           \\n                              <tr> \\n                                   \\n                                      <td> 1.4 </td> \\n                                   \\n                                      <td> 0.2 </td> \\n                                   \\n                                      <td> 4.9 </td> \\n                                   \\n                                      <td> 3.0 </td> \\n                                   \\n                                      <td> setosa </td> \\n                                   \\n                                      <td> 1 </td> \\n                                  \\n                              </tr> \\n                           \\n                              <tr> \\n                                   \\n                                      <td> 1.3 </td> \\n                                   \\n                                      <td> 0.2 </td> \\n                                   \\n                                      <td> 4.7 </td> \\n                                   \\n                                      <td> 3.2 </td> \\n                                   \\n                                      <td> setosa </td> \\n                                   \\n                                      <td> 2 </td> \\n                                  \\n                              </tr> \\n                           \\n                              <tr> \\n                                   \\n                                      <td> 1.5 </td> \\n                                   \\n                                      <td> 0.2 </td> \\n                                   \\n                                      <td> 4.6 </td> \\n                                   \\n                                      <td> 3.1 </td> \\n                                   \\n                                      <td> setosa </td> \\n                                   \\n                                      <td> 3 </td> \\n                                  \\n                              </tr> \\n                           \\n                              <tr> \\n                                   \\n                                      <td> 1.4 </td> \\n                                   \\n                                      <td> 0.2 </td> \\n                                   \\n                                      <td> 5.0 </td> \\n                                   \\n                                      <td> 3.6 </td> \\n                                   \\n                                      <td> setosa </td> \\n                                   \\n                                      <td> 4 </td> \\n                                  \\n                              </tr> \\n                           \\n                              <tr> \\n                                   \\n                                      <td> 1.7 </td> \\n                                   \\n                                      <td> 0.4 </td> \\n                                   \\n                                      <td> 5.4 </td> \\n                                   \\n                                      <td> 3.9 </td> \\n                                   \\n                                      <td> setosa </td> \\n                                   \\n                                      <td> 5 </td> \\n                                  \\n                              </tr> \\n                           \\n                              <tr> \\n                                   \\n                                      <td> 1.4 </td> \\n                                   \\n                                      <td> 0.3 </td> \\n                                   \\n                                      <td> 4.6 </td> \\n                                   \\n                                      <td> 3.4 </td> \\n                                   \\n                                      <td> setosa </td> \\n                                   \\n                                      <td> 6 </td> \\n                                  \\n                              </tr> \\n                           \\n                              <tr> \\n                                   \\n                                      <td> 1.5 </td> \\n                                   \\n                                      <td> 0.2 </td> \\n                                   \\n                                      <td> 5.0 </td> \\n                                   \\n                                      <td> 3.4 </td> \\n                                   \\n                                      <td> setosa </td> \\n                                   \\n                                      <td> 7 </td> \\n                                  \\n                              </tr> \\n                           \\n                              <tr> \\n                                   \\n                                      <td> 1.4 </td> \\n                                   \\n                                      <td> 0.2 </td> \\n                                   \\n                                      <td> 4.4 </td> \\n                                   \\n                                      <td> 2.9 </td> \\n                                   \\n                                      <td> setosa </td> \\n                                   \\n                                      <td> 8 </td> \\n                                  \\n                              </tr> \\n                           \\n                              <tr> \\n                                   \\n                                      <td> 1.5 </td> \\n                                   \\n                                      <td> 0.1 </td> \\n                                   \\n                                      <td> 4.9 </td> \\n                                   \\n                                      <td> 3.1 </td> \\n                                   \\n                                      <td> setosa </td> \\n                                   \\n                                      <td> 9 </td> \\n                                  \\n                              </tr> \\n                           \\n                              <tr> \\n                                   \\n                                      <td> 1.5 </td> \\n                                   \\n                                      <td> 0.2 </td> \\n                                   \\n                                      <td> 5.4 </td> \\n                                   \\n                                      <td> 3.7 </td> \\n                                   \\n                                      <td> setosa </td> \\n                                   \\n                                      <td> 10 </td> \\n                                  \\n                              </tr> \\n                           \\n                              <tr> \\n                                   \\n                                      <td> 1.6 </td> \\n                                   \\n                                      <td> 0.2 </td> \\n                                   \\n                                      <td> 4.8 </td> \\n                                   \\n                                      <td> 3.4 </td> \\n                                   \\n                                      <td> setosa </td> \\n                                   \\n                                      <td> 11 </td> \\n                                  \\n                              </tr> \\n                           \\n                              <tr> \\n                                   \\n                                      <td> 1.4 </td> \\n                                   \\n                                      <td> 0.1 </td> \\n                                   \\n                                      <td> 4.8 </td> \\n                                   \\n                                      <td> 3.0 </td> \\n                                   \\n                                      <td> setosa </td> \\n                                   \\n                                      <td> 12 </td> \\n                                  \\n                              </tr> \\n                           \\n                              <tr> \\n                                   \\n                                      <td> 1.1 </td> \\n                                   \\n                                      <td> 0.1 </td> \\n                                   \\n                                      <td> 4.3 </td> \\n                                   \\n                                      <td> 3.0 </td> \\n                                   \\n                                      <td> setosa </td> \\n                                   \\n                                      <td> 13 </td> \\n                                  \\n                              </tr> \\n                           \\n                              <tr> \\n                                   \\n                                      <td> 1.2 </td> \\n                                   \\n                                      <td> 0.2 </td> \\n                                   \\n                                      <td> 5.8 </td> \\n                                   \\n                                      <td> 4.0 </td> \\n                                   \\n                                      <td> setosa </td> \\n                                   \\n                                      <td> 14 </td> \\n                                  \\n                              </tr> \\n                           \\n                              <tr> \\n                                   \\n                                      <td> 1.5 </td> \\n                                   \\n                                      <td> 0.4 </td> \\n                                   \\n                                      <td> 5.7 </td> \\n                                   \\n                                      <td> 4.4 </td> \\n                                   \\n                                      <td> setosa </td> \\n                                   \\n                                      <td> 15 </td> \\n                                  \\n                              </tr> \\n                           \\n                              <tr> \\n                                   \\n                                      <td> 1.3 </td> \\n                                   \\n                                      <td> 0.4 </td> \\n                                   \\n                                      <td> 5.4 </td> \\n                                   \\n                                      <td> 3.9 </td> \\n                                   \\n                                      <td> setosa </td> \\n                                   \\n                                      <td> 16 </td> \\n                                  \\n                              </tr> \\n                           \\n                              <tr> \\n                                   \\n                                      <td> 1.4 </td> \\n                                   \\n                                      <td> 0.3 </td> \\n                                   \\n                                      <td> 5.1 </td> \\n                                   \\n                                      <td> 3.5 </td> \\n                                   \\n                                      <td> setosa </td> \\n                                   \\n                                      <td> 17 </td> \\n                                  \\n                              </tr> \\n                           \\n                              <tr> \\n                                   \\n                                      <td> 1.7 </td> \\n                                   \\n                                      <td> 0.3 </td> \\n                                   \\n                                      <td> 5.7 </td> \\n                                   \\n                                      <td> 3.8 </td> \\n                                   \\n                                      <td> setosa </td> \\n                                   \\n                                      <td> 18 </td> \\n                                  \\n                              </tr> \\n                           \\n                              <tr> \\n                                   \\n                                      <td> 1.5 </td> \\n                                   \\n                                      <td> 0.3 </td> \\n                                   \\n                                      <td> 5.1 </td> \\n                                   \\n                                      <td> 3.8 </td> \\n                                   \\n                                      <td> setosa </td> \\n                                   \\n                                      <td> 19 </td> \\n                                  \\n                              </tr> \\n                           \\n                      </table>\\n                  \"), HBox(children=(HTML(value=u'\\u5f53\\u524d\\u7b2c1\\u9875\\uff0c\\u51718\\u9875'), Button(icon=u'step-backward', style=ButtonStyle(), tooltip=u'\\u7b2c\\u4e00\\u9875'), Button(icon=u'chevron-left', style=ButtonStyle(), tooltip=u'\\u4e0a\\u4e00\\u9875'), Button(icon=u'chevron-right', style=ButtonStyle(), tooltip=u'\\u4e0b\\u4e00\\u9875'), Button(icon=u'step-forward', style=ButtonStyle(), tooltip=u'\\u6700\\u540e\\u9875')), layout=Layout(display=u'flex-flow', flex_flow=u'row', justify_content=u'space-around', width=u'100%'))))"
      ]
     },
     "metadata": {},
     "output_type": "display_data"
    }
   ],
   "source": [
    "table = TableChart(myheader,mybody,20)\n",
    "table"
   ]
  },
  {
   "cell_type": "markdown",
   "metadata": {},
   "source": [
    "### 设置表头"
   ]
  },
  {
   "cell_type": "code",
   "execution_count": 25,
   "metadata": {},
   "outputs": [],
   "source": [
    "table.model.header=['1','2','3','4','5']"
   ]
  },
  {
   "cell_type": "markdown",
   "metadata": {},
   "source": [
    "### 设置当前页"
   ]
  },
  {
   "cell_type": "code",
   "execution_count": 26,
   "metadata": {},
   "outputs": [],
   "source": [
    "table.model.pos = 3"
   ]
  },
  {
   "cell_type": "markdown",
   "metadata": {},
   "source": [
    "### 设置分页大小"
   ]
  },
  {
   "cell_type": "code",
   "execution_count": 27,
   "metadata": {},
   "outputs": [],
   "source": [
    "table.model.pageSize = 25 "
   ]
  },
  {
   "cell_type": "markdown",
   "metadata": {},
   "source": [
    "### 设置数据源"
   ]
  },
  {
   "cell_type": "code",
   "execution_count": 28,
   "metadata": {},
   "outputs": [],
   "source": [
    "table.model.data = df[10:67].values.tolist()"
   ]
  },
  {
   "cell_type": "code",
   "execution_count": null,
   "metadata": {},
   "outputs": [],
   "source": []
  }
 ],
 "metadata": {
  "kernelspec": {
   "display_name": "Python 2",
   "language": "python",
   "name": "python2"
  },
  "language_info": {
   "codemirror_mode": {
    "name": "ipython",
    "version": 2
   },
   "file_extension": ".py",
   "mimetype": "text/x-python",
   "name": "python",
   "nbconvert_exporter": "python",
   "pygments_lexer": "ipython2",
   "version": "2.7.13"
  }
 },
 "nbformat": 4,
 "nbformat_minor": 2
}
