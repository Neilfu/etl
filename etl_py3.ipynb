{
 "cells": [
  {
   "cell_type": "code",
   "execution_count": 47,
   "metadata": {
    "collapsed": true
   },
   "outputs": [],
   "source": [
    "# -*- coding:utf-8 -*- "
   ]
  },
  {
   "cell_type": "code",
   "execution_count": 281,
   "metadata": {
    "collapsed": true
   },
   "outputs": [],
   "source": [
    "import pandas as pd\n",
    "import traitlets\n",
    "from IPython.display import display,update_display\n",
    "import ipywidgets as widgets\n",
    "import bqplot as bp\n",
    "import random"
   ]
  },
  {
   "cell_type": "code",
   "execution_count": 282,
   "metadata": {
    "collapsed": true
   },
   "outputs": [],
   "source": [
    "import sys \n",
    "sys.path.append('libs/')\n",
    "from table_v3 import TableChart"
   ]
  },
  {
   "cell_type": "code",
   "execution_count": 50,
   "metadata": {
    "collapsed": true
   },
   "outputs": [],
   "source": []
  },
  {
   "cell_type": "code",
   "execution_count": 283,
   "metadata": {},
   "outputs": [],
   "source": [
    "class EtlCommand(traitlets.HasTraits):\n",
    "    \n",
    "    _df = pd.DataFrame()\n",
    "    #_data = traitlets.Dict()\n",
    "    #_header = traitlets.Dict()\n",
    "    _table = None\n",
    "    _show = False\n",
    "    _GUI = None\n",
    " \n",
    "    def __init__(self,df):\n",
    "        self._df = df\n",
    "        self._data = df.values.tolist()\n",
    "        self._header = df.columns.values.tolist()\n",
    "        self._table = TableChart(self._header,self._data)\n",
    "    \n",
    "    def drop(self,**kwargs):\n",
    "        col_value = kwargs.get('col')\n",
    "        print ('drop:'+ col_value)\n",
    "        if col_value and col_value in self._header:\n",
    "            self._df.drop(col_value,axis=1,inplace=True)\n",
    "            self.update()\n",
    "        else:\n",
    "            raise Exception('col is not valid, must be in list[{}]'.format(self._df.columns.values.tolist()))\n",
    "    \n",
    "    def update(self):\n",
    "        #self._data = df.values.tolist()\n",
    "        #self._header = df.columns.values.tolist()\n",
    "        if self._show:\n",
    "            self._table.model.data = self._df.values.tolist()\n",
    "            self._table.model.header = self._df.columns.values.tolist()\n",
    "            kwargs={'id':random.random(),'operation':'drop','col':df.columns.values.tolist()}\n",
    "            #update_display(self._updatehandle,display_id='commandGUI')\n",
    "            self._GUI.cmdargs = kwargs\n",
    "    \n",
    "    def showTable(self,enable=True):\n",
    "        if isinstance(enable,bool):\n",
    "            self._show = enable\n",
    "        else:\n",
    "            raise Exception('display must be bool value')\n",
    "        if self._show:\n",
    "            self.show_handle = display(self._table)\n",
    "        else:\n",
    "            self._table.close()\n",
    "            self._show = False\n",
    "     \n",
    "    def showGUI(self):\n",
    "        self._GUI = EtlGUI(self,{'operation':'drop','col':df.columns.values.tolist()})\n",
    "        self._updatehandle = display(self._GUI,display_id='commandGUI')\n"
   ]
  },
  {
   "cell_type": "code",
   "execution_count": 425,
   "metadata": {},
   "outputs": [],
   "source": [
    "class EtlGUI(widgets.Box):\n",
    "    \n",
    "    _cmds = None\n",
    "    _args = None\n",
    "    _argsdict = traitlets.Dict()\n",
    "    \n",
    "    def __init__(self,cmds,kwargs=None):\n",
    "        super(EtlGUI,self).__init__()\n",
    "        self._cmds = cmds\n",
    "        self._argsdict = kwargs \n",
    "        self._args = self.initArgs()\n",
    "        self._btn_ok = widgets.Button(description=u'确认',layout=widgets.Layout(width='10%',))\n",
    "        self.children = [self._lb_operation,self._args,self._btn_ok]\n",
    "        self.layout = widgets.Layout(width=\"100%\",display='flex-flow',flex_flow='row', justify_content=u'flex-start')\n",
    "        self._btn_ok.on_click(self.execute)\n",
    "        \n",
    "    def execute(self,a):\n",
    "        cmd_label = self._lb_operation.value\n",
    "        action_handler = getattr(self._cmds,cmd_label)\n",
    "        if not action_handler:\n",
    "            raise Exception('label:{} is not a valid ETL command '.format(cmd_label))\n",
    "        args = {}\n",
    "        for arg in self._args.children:\n",
    "            arg_name = arg.children[0].value\n",
    "            arg_value = arg.children[1].value\n",
    "            args[arg_name] = arg_value\n",
    "        print(args)\n",
    "        action_handler(**args)\n",
    "    \n",
    "    @property\n",
    "    def cmdargs(self):\n",
    "        return self._argsdict\n",
    "    \n",
    "    @cmdargs.setter\n",
    "    def cmdargs(self,kwargs=None):\n",
    "        self._argsdict = kwargs\n",
    "    \n",
    "    \n",
    "    \n",
    "    @traitlets.observe('_argsdict')\n",
    "    def updateArgs(self,change=None):\n",
    "        \n",
    "        if not self._args:\n",
    "            return \n",
    "        for arg in self._args.children:\n",
    "            arg_name = arg.children[0].value\n",
    "            if arg_name in self._argsdict:\n",
    "                arg.children[1].options =  self._argsdict[arg_name]\n",
    "                arg.children[1].value =  None\n",
    "\n",
    "        \n",
    "    def initArgs(self):\n",
    "        kwargs = self._argsdict\n",
    "        print(kwargs)\n",
    "        if 'id' in kwargs:\n",
    "            del kwargs['id']\n",
    "        width_auto =  '{}%'.format(100 / len(kwargs))\n",
    "        input_args = []\n",
    "\n",
    "        for arg in kwargs:\n",
    "            value = kwargs[arg]\n",
    "            if arg ==u'operation':\n",
    "                self._lb_operation = widgets.Label(value,layout=widgets.Layout(width='10%'))\n",
    "                continue\n",
    "            if isinstance(value,int):\n",
    "                widget_arg = widgets.IntText(value)\n",
    "            elif isinstance(value,list):\n",
    "                widget_arg = widgets.Dropdown(options=value,value=None)\n",
    "                if value =='col':\n",
    "                    widget_arg.observe(self.fn,'value')\n",
    "                    \n",
    "            elif isinstance(value,str):\n",
    "                widget_arg = widgets.Text(value)\n",
    "            group_arg = widgets.HBox(layout=widgets.Layout(width=width_auto))\n",
    "            width_arg_label = '{}px'.format(len(arg)*16)\n",
    "            group_arg.children = [widgets.Label(arg,layout=widgets.Layout(width=width_arg_label)),widget_arg]\n",
    "            input_args.append(group_arg)\n",
    "        \n",
    "        arg_hbox = widgets.HBox(layout=widgets.Layout(width='80%'))\n",
    "        arg_hbox.children = input_args\n",
    "        return arg_hbox\n",
    "    \n",
    "    def fn(change):\n",
    "        value=change['new']\n",
    "        \n",
    "\n",
    "class ColWidget(widgets.Box):\n",
    "    \n",
    "    value = traitlets.Unicode()\n",
    "    def __init__(self,label='Col',options=None,placehold='please choose a column'):\n",
    "        super(ColWidget,self).__init__()\n",
    "        \n",
    "        self.layout = widgets.Layout(width=\"100%\",display='flex-flow',flex_flow='row', justify_content=u'flex-start')\n",
    "        self.placehold = placehold\n",
    "        labels = widgets.Label(label,layout =widgets.Layout(width='64px') )\n",
    "        if not(isinstance(options,list)):\n",
    "            raise Exception('options must be a list')\n",
    "        self.inputs = widgets.Dropdown(options =[self.placehold]+options,value=self.placehold )\n",
    "        self.children = [labels,self.inputs]\n",
    "        self.inputs.observe(self.eventColChoose,'value')   \n",
    "        \n",
    "    def eventColChoose(self,change):\n",
    "        if change['new'] != self.placehold:\n",
    "            self.value = change['new']\n",
    "\n",
    "class FilterWidget(widgets.Box):\n",
    "    value = traitlets.Unicode()\n",
    "    apply = traitlets.Bool(False)\n",
    "    \n",
    "    def __init__(self,options=None,placehold='please choose a column'):\n",
    "        super(FilterWidget,self).__init__()\n",
    "        self.layout = layout=widgets.Layout(display='flex-flow',flex_flow='column')\n",
    "        cmdSection = widgets.Box(layout=widgets.Layout(display='flex-flow',flex_flow='row', justify_content=u'flex-start'))\n",
    "        self.wColWidget = ColWidget(options=df.columns.values.tolist(),placehold=u'',label='请选择列')\n",
    "        self.btnAdd = widgets.Button(description=u'增加条件')\n",
    "        self.btnApply = widgets.Button(description=u'应用筛选')\n",
    "        self.btnCancel = widgets.Button(description=u'取消筛选')\n",
    "        cmdSection.children=[self.wColWidget,self.btnAdd,self.btnApply,self.btnCancel]\n",
    "        self.children = [cmdSection]\n",
    "        self.btnAdd.on_click(self.andFilter,False)\n",
    "        self.btnApply.on_click(self.filterApply,False)\n",
    "        self.btnCancel.on_click(self.filterCancel,False)\n",
    "    \n",
    "    def andFilter(self,a):\n",
    "        partCol = widgets.Label(self.wColWidget.value,layout=widgets.Layout(width='100px'))\n",
    "        partOp = widgets.Dropdown(options=['==','>','>=','<','<=','<>','in','between'],layout=widgets.Layout(width='100px'))\n",
    "        partInput = widgets.Text(placehold=u'请输入筛选范围')\n",
    "        partAnd = widgets.Label('and',layout=widgets.Layout(width='100px'))\n",
    "        addCondition = widgets.Box(layout=widgets.Layout(display='flex-flow',flex_flow='row', justify_content=u'flex-start'))\n",
    "        addCondition.children = [partCol,partOp,partInput,partAnd ]\n",
    "        self.children = [c for c in self.children] + [addCondition]\n",
    "    \n",
    "    def filterApply(self,a):\n",
    "        cond = []\n",
    "        for b in f.children[1:]:\n",
    "            field = b.children[0].value\n",
    "            op = b.children[1].value\n",
    "            value = b.children[2].value\n",
    "            cond.append(\"({} {} {})\".format(field , op ,value))\n",
    "        self.value = ' and '.join(cond)\n",
    "        self.apply = True\n",
    "        \n",
    "    def filterCancel(self,a):\n",
    "        self.apply = False    \n",
    "        \n",
    "        "
   ]
  },
  {
   "cell_type": "code",
   "execution_count": 520,
   "metadata": {},
   "outputs": [],
   "source": [
    "\n",
    "        \n"
   ]
  },
  {
   "cell_type": "code",
   "execution_count": 521,
   "metadata": {},
   "outputs": [
    {
     "data": {
      "application/vnd.jupyter.widget-view+json": {
       "model_id": "b5edefb35ebc49e88e1c5f13e4e5577b",
       "version_major": 2,
       "version_minor": 0
      },
      "text/plain": [
       "A Jupyter Widget"
      ]
     },
     "metadata": {},
     "output_type": "display_data"
    },
    {
     "name": "stdout",
     "output_type": "stream",
     "text": [
      "(petalLength == 33) and (species in ['a','b','c']) and (species <> 'd')\n"
     ]
    }
   ],
   "source": [
    "\n",
    "f =FilterWidget(options=df.columns.values.tolist(),placehold=u'请选择列')\n",
    "f"
   ]
  },
  {
   "cell_type": "code",
   "execution_count": 522,
   "metadata": {},
   "outputs": [
    {
     "data": {
      "text/plain": [
       "\"(petalLength == 33) and (species in ['a','b','c'])\""
      ]
     },
     "execution_count": 522,
     "metadata": {},
     "output_type": "execute_result"
    }
   ],
   "source": [
    "f.value"
   ]
  },
  {
   "cell_type": "code",
   "execution_count": 523,
   "metadata": {},
   "outputs": [],
   "source": [
    "def fn(change):\n",
    "    print(change['new'])\n",
    "f.observe(fn,'value')   "
   ]
  },
  {
   "cell_type": "code",
   "execution_count": 494,
   "metadata": {
    "collapsed": true
   },
   "outputs": [],
   "source": [
    "df = pd.read_csv('../data/iris.csv')"
   ]
  },
  {
   "cell_type": "code",
   "execution_count": 279,
   "metadata": {},
   "outputs": [
    {
     "data": {
      "application/vnd.jupyter.widget-view+json": {
       "model_id": "1b0e400636a6415aaced94a0af9b9837",
       "version_major": 2,
       "version_minor": 0
      },
      "text/plain": [
       "A Jupyter Widget"
      ]
     },
     "metadata": {},
     "output_type": "display_data"
    }
   ],
   "source": [
    "cmd = EtlCommand(df)\n",
    "cmd.showTable()"
   ]
  },
  {
   "cell_type": "code",
   "execution_count": 280,
   "metadata": {},
   "outputs": [
    {
     "name": "stdout",
     "output_type": "stream",
     "text": [
      "{'operation': 'drop', 'col': ['petalLength', 'petalWidth', 'sepalLength', 'sepalWidth', 'species']}\n"
     ]
    },
    {
     "data": {
      "application/vnd.jupyter.widget-view+json": {
       "model_id": "ea3f214e0bc54ad881ec5707a5727ab8",
       "version_major": 2,
       "version_minor": 0
      },
      "text/plain": [
       "A Jupyter Widget"
      ]
     },
     "metadata": {},
     "output_type": "display_data"
    },
    {
     "name": "stdout",
     "output_type": "stream",
     "text": [
      "{'col': 'sepalWidth'}\n",
      "{'col': 'sepalLength'}\n"
     ]
    }
   ],
   "source": [
    "cmd.showGUI()"
   ]
  },
  {
   "cell_type": "code",
   "execution_count": 245,
   "metadata": {},
   "outputs": [
    {
     "data": {
      "text/plain": [
       "Index(['petalWidth', 'sepalLength', 'sepalWidth', 'species'], dtype='object')"
      ]
     },
     "execution_count": 245,
     "metadata": {},
     "output_type": "execute_result"
    }
   ],
   "source": [
    "cmd._df.columns"
   ]
  },
  {
   "cell_type": "code",
   "execution_count": 244,
   "metadata": {},
   "outputs": [
    {
     "data": {
      "text/html": [
       "<div>\n",
       "<style scoped>\n",
       "    .dataframe tbody tr th:only-of-type {\n",
       "        vertical-align: middle;\n",
       "    }\n",
       "\n",
       "    .dataframe tbody tr th {\n",
       "        vertical-align: top;\n",
       "    }\n",
       "\n",
       "    .dataframe thead th {\n",
       "        text-align: right;\n",
       "    }\n",
       "</style>\n",
       "<table border=\"1\" class=\"dataframe\">\n",
       "  <thead>\n",
       "    <tr style=\"text-align: right;\">\n",
       "      <th></th>\n",
       "      <th>petalWidth</th>\n",
       "      <th>sepalLength</th>\n",
       "      <th>sepalWidth</th>\n",
       "      <th>species</th>\n",
       "    </tr>\n",
       "  </thead>\n",
       "  <tbody>\n",
       "    <tr>\n",
       "      <th>0</th>\n",
       "      <td>0.2</td>\n",
       "      <td>5.1</td>\n",
       "      <td>3.5</td>\n",
       "      <td>setosa</td>\n",
       "    </tr>\n",
       "    <tr>\n",
       "      <th>1</th>\n",
       "      <td>0.2</td>\n",
       "      <td>4.9</td>\n",
       "      <td>3.0</td>\n",
       "      <td>setosa</td>\n",
       "    </tr>\n",
       "    <tr>\n",
       "      <th>2</th>\n",
       "      <td>0.2</td>\n",
       "      <td>4.7</td>\n",
       "      <td>3.2</td>\n",
       "      <td>setosa</td>\n",
       "    </tr>\n",
       "    <tr>\n",
       "      <th>3</th>\n",
       "      <td>0.2</td>\n",
       "      <td>4.6</td>\n",
       "      <td>3.1</td>\n",
       "      <td>setosa</td>\n",
       "    </tr>\n",
       "    <tr>\n",
       "      <th>4</th>\n",
       "      <td>0.2</td>\n",
       "      <td>5.0</td>\n",
       "      <td>3.6</td>\n",
       "      <td>setosa</td>\n",
       "    </tr>\n",
       "  </tbody>\n",
       "</table>\n",
       "</div>"
      ],
      "text/plain": [
       "   petalWidth  sepalLength  sepalWidth species\n",
       "0         0.2          5.1         3.5  setosa\n",
       "1         0.2          4.9         3.0  setosa\n",
       "2         0.2          4.7         3.2  setosa\n",
       "3         0.2          4.6         3.1  setosa\n",
       "4         0.2          5.0         3.6  setosa"
      ]
     },
     "execution_count": 244,
     "metadata": {},
     "output_type": "execute_result"
    }
   ],
   "source": [
    "cmd._df.head()"
   ]
  },
  {
   "cell_type": "code",
   "execution_count": 193,
   "metadata": {},
   "outputs": [
    {
     "name": "stdout",
     "output_type": "stream",
     "text": [
      "HBox(children=(HBox(children=(Label(value='col', layout=Layout(width='48px')), Dropdown(options=('petalLength', 'petalWidth', 'sepalLength', 'sepalWidth', 'species'), value='petalLength')), layout=Layout(width='50.0%')),), layout=Layout(width='80%'))\n"
     ]
    }
   ],
   "source": [
    "print(cmd._GUI._args)"
   ]
  },
  {
   "cell_type": "code",
   "execution_count": 170,
   "metadata": {},
   "outputs": [
    {
     "data": {
      "text/plain": [
       "0.13135690348335494"
      ]
     },
     "execution_count": 170,
     "metadata": {},
     "output_type": "execute_result"
    }
   ],
   "source": [
    "random.random()"
   ]
  },
  {
   "cell_type": "code",
   "execution_count": 228,
   "metadata": {},
   "outputs": [
    {
     "data": {
      "text/plain": [
       "<method-wrapper '__init__' of NoneType object at 0x7f838c14bd60>"
      ]
     },
     "execution_count": 228,
     "metadata": {},
     "output_type": "execute_result"
    }
   ],
   "source": [
    "getattr(cmd._GUI,'__init__')"
   ]
  },
  {
   "cell_type": "code",
   "execution_count": 229,
   "metadata": {},
   "outputs": [
    {
     "data": {
      "text/plain": [
       "['__bool__',\n",
       " '__class__',\n",
       " '__delattr__',\n",
       " '__dir__',\n",
       " '__doc__',\n",
       " '__eq__',\n",
       " '__format__',\n",
       " '__ge__',\n",
       " '__getattribute__',\n",
       " '__gt__',\n",
       " '__hash__',\n",
       " '__init__',\n",
       " '__init_subclass__',\n",
       " '__le__',\n",
       " '__lt__',\n",
       " '__ne__',\n",
       " '__new__',\n",
       " '__reduce__',\n",
       " '__reduce_ex__',\n",
       " '__repr__',\n",
       " '__setattr__',\n",
       " '__sizeof__',\n",
       " '__str__',\n",
       " '__subclasshook__']"
      ]
     },
     "execution_count": 229,
     "metadata": {},
     "output_type": "execute_result"
    }
   ],
   "source": [
    "dir(cmd._GUI)"
   ]
  },
  {
   "cell_type": "code",
   "execution_count": 275,
   "metadata": {},
   "outputs": [],
   "source": [
    "d = widgets.Dropdown(options=[1,2,3,4])\n",
    "\n",
    "\n",
    "def p(y):\n",
    "    print(y)\n",
    "    \n",
    "d.observe(p,'value')\n"
   ]
  },
  {
   "cell_type": "code",
   "execution_count": 276,
   "metadata": {},
   "outputs": [
    {
     "data": {
      "application/vnd.jupyter.widget-view+json": {
       "model_id": "05c6788d1af145d699aa7da64bbde842",
       "version_major": 2,
       "version_minor": 0
      },
      "text/plain": [
       "A Jupyter Widget"
      ]
     },
     "metadata": {},
     "output_type": "display_data"
    },
    {
     "name": "stdout",
     "output_type": "stream",
     "text": [
      "{'name': 'value', 'old': 1, 'new': 3, 'owner': Dropdown(index=2, options=(1, 2, 3, 4), value=3), 'type': 'change'}\n",
      "{'name': 'value', 'old': 3, 'new': 4, 'owner': Dropdown(index=3, options=(1, 2, 3, 4), value=4), 'type': 'change'}\n"
     ]
    }
   ],
   "source": [
    "d"
   ]
  },
  {
   "cell_type": "code",
   "execution_count": null,
   "metadata": {
    "collapsed": true
   },
   "outputs": [],
   "source": []
  }
 ],
 "metadata": {
  "kernelspec": {
   "display_name": "Python 3",
   "language": "python",
   "name": "python3"
  },
  "language_info": {
   "codemirror_mode": {
    "name": "ipython",
    "version": 3
   },
   "file_extension": ".py",
   "mimetype": "text/x-python",
   "name": "python",
   "nbconvert_exporter": "python",
   "pygments_lexer": "ipython3",
   "version": "3.6.3"
  },
  "varInspector": {
   "cols": {
    "lenName": 16,
    "lenType": 16,
    "lenVar": 40
   },
   "kernels_config": {
    "python": {
     "delete_cmd_postfix": "",
     "delete_cmd_prefix": "del ",
     "library": "var_list.py",
     "varRefreshCmd": "print(var_dic_list())"
    },
    "r": {
     "delete_cmd_postfix": ") ",
     "delete_cmd_prefix": "rm(",
     "library": "var_list.r",
     "varRefreshCmd": "cat(var_dic_list()) "
    }
   },
   "types_to_exclude": [
    "module",
    "function",
    "builtin_function_or_method",
    "instance",
    "_Feature"
   ],
   "window_display": false
  }
 },
 "nbformat": 4,
 "nbformat_minor": 2
}
