{
 "cells": [
  {
   "cell_type": "code",
   "execution_count": 1,
   "metadata": {
    "collapsed": true
   },
   "outputs": [],
   "source": [
    "# -*- coding:utf-8 -*- "
   ]
  },
  {
   "cell_type": "code",
   "execution_count": 2,
   "metadata": {
    "collapsed": true
   },
   "outputs": [],
   "source": [
    "import pandas as pd\n",
    "import traitlets\n",
    "from IPython.display import display,update_display\n",
    "import ipywidgets as widgets\n",
    "import bqplot as bp\n",
    "import random"
   ]
  },
  {
   "cell_type": "code",
   "execution_count": 3,
   "metadata": {
    "collapsed": true
   },
   "outputs": [],
   "source": [
    "import sys \n",
    "sys.path.append('libs/')\n",
    "from table_v3 import TableChart"
   ]
  },
  {
   "cell_type": "code",
   "execution_count": null,
   "metadata": {
    "collapsed": true
   },
   "outputs": [],
   "source": []
  },
  {
   "cell_type": "code",
   "execution_count": 4,
   "metadata": {
    "collapsed": true
   },
   "outputs": [],
   "source": [
    "class EtlCommand(traitlets.HasTraits):\n",
    "    \n",
    "    _df = pd.DataFrame()\n",
    "    #_data = traitlets.Dict()\n",
    "    #_header = traitlets.Dict()\n",
    "    _table = None\n",
    "    _show = False\n",
    "    _GUI = None\n",
    " \n",
    "    def __init__(self,df):\n",
    "        self._df = df\n",
    "        self._data = df.values.tolist()\n",
    "        self._header = df.columns.values.tolist()\n",
    "        self._table = TableChart(self._header,self._data)\n",
    "    \n",
    "    def drop(self,**kwargs):\n",
    "        col_value = kwargs.get('col')\n",
    "        if col_value and col_value in self._header:\n",
    "            self._df.drop(col_value,axis=1,inplace=True)\n",
    "            self.update()\n",
    "        else:\n",
    "            raise Exception('col is not valid, must be in list[{}]'.format(self._df.columns.values.tolist()))\n",
    "    \n",
    "    def update(self):\n",
    "        #self._data = df.values.tolist()\n",
    "        #self._header = df.columns.values.tolist()\n",
    "        if self._show:\n",
    "            self._table.model.data = self._df.values.tolist()\n",
    "            self._table.model.header = self._df.columns.values.tolist()\n",
    "            kwargs={'id':random.random(),'operation':'drop','col':df.columns.values.tolist()}\n",
    "            #update_display(self._updatehandle,display_id='commandGUI')\n",
    "            self._GUI.cmdargs = kwargs\n",
    "    \n",
    "    def showTable(self,enable=True):\n",
    "        if isinstance(enable,bool):\n",
    "            self._show = enable\n",
    "        else:\n",
    "            raise Exception('display must be bool value')\n",
    "        if self._show:\n",
    "            self.show_handle = display(self._table)\n",
    "        else:\n",
    "            self._table.close()\n",
    "            self._show = False\n",
    "     \n",
    "    def showGUI(self):\n",
    "        self._GUI = EtlGUI(self,{'operation':'drop','col':df.columns.values.tolist()})\n",
    "        self._updatehandle = display(self._GUI,display_id='commandGUI')\n"
   ]
  },
  {
   "cell_type": "code",
   "execution_count": 44,
   "metadata": {
    "collapsed": true
   },
   "outputs": [],
   "source": [
    "class EtlGUI(widgets.Box):\n",
    "    \n",
    "    _cmds = None\n",
    "    _args = None\n",
    "    _argsdict = traitlets.Dict()\n",
    "    \n",
    "    def __init__(self,cmds,kwargs=None):\n",
    "        super(EtlGUI,self).__init__()\n",
    "        self._cmds = cmds\n",
    "        self._argsdict = kwargs \n",
    "        self._args = self.initArgs()\n",
    "        self._btn_ok = widgets.Button(description=u'确认',layout=widgets.Layout(width='10%',))\n",
    "        self.children = [self._lb_operation,self._args,self._btn_ok]\n",
    "        self.layout = widgets.Layout(width=\"100%\",display='flex-flow',flex_flow='row', justify_content=u'flex-start')\n",
    "        self._btn_ok.on_click(self.execute)\n",
    "        \n",
    "    def execute(self,a):\n",
    "        cmd_label = self._lb_operation.value\n",
    "        action_handler = getattr(self._cmds,cmd_label)\n",
    "        if not action_handler:\n",
    "            raise Exception('label:{} is not a valid ETL command '.format(cmd_label))\n",
    "        args = {}\n",
    "        for arg in self._args.children:\n",
    "            arg_name = arg.children[0].value\n",
    "            arg_value = arg.children[1].value\n",
    "            args[arg_name] = arg_value\n",
    "        action_handler(**args)\n",
    "    \n",
    "    @property\n",
    "    def cmdargs(self):\n",
    "        return self._argsdict\n",
    "    \n",
    "    @cmdargs.setter\n",
    "    def cmdargs(self,kwargs=None):\n",
    "        self._argsdict = kwargs\n",
    "    \n",
    "    \n",
    "    \n",
    "    @traitlets.observe('_argsdict')\n",
    "    def updateArgs(self,change=None):\n",
    "        \n",
    "        if not self._args:\n",
    "            return \n",
    "        for arg in self._args.children:\n",
    "            arg_name = arg.children[0].value\n",
    "            if arg_name in self._argsdict:\n",
    "                arg.children[1].options =  self._argsdict[arg_name]\n",
    "                arg.children[1].value =  None\n",
    "\n",
    "        \n",
    "    def initArgs(self):\n",
    "        kwargs = self._argsdict\n",
    "        print(kwargs)\n",
    "        if 'id' in kwargs:\n",
    "            del kwargs['id']\n",
    "        width_auto =  '{}%'.format(100 / len(kwargs))\n",
    "        input_args = []\n",
    "\n",
    "        for arg in kwargs:\n",
    "            value = kwargs[arg]\n",
    "            if arg ==u'operation':\n",
    "                self._lb_operation = widgets.Label(value,layout=widgets.Layout(width='10%'))\n",
    "                continue\n",
    "            if isinstance(value,int):\n",
    "                widget_arg = widgets.IntText(value)\n",
    "            elif isinstance(value,list):\n",
    "                widget_arg = widgets.Dropdown(options=value,value=None)\n",
    "                if arg =='col':\n",
    "                    widget_arg.observe(self.colChoose,'value')\n",
    "                    \n",
    "            elif isinstance(value,str):\n",
    "                widget_arg = widgets.Text(value)\n",
    "            group_arg = widgets.HBox(layout=widgets.Layout(width=width_auto))\n",
    "            width_arg_label = '{}px'.format(len(arg)*16)\n",
    "            group_arg.children = [widgets.Label(arg,layout=widgets.Layout(width=width_arg_label)),widget_arg]\n",
    "            input_args.append(group_arg)\n",
    "        \n",
    "        arg_hbox = widgets.HBox(layout=widgets.Layout(width='80%'))\n",
    "        arg_hbox.children = input_args\n",
    "        return arg_hbox\n",
    "    \n",
    "    def colChoose(self,change):\n",
    "        value=change['new']\n",
    "        self._cmds._table.colChoose([value])\n",
    "        \n",
    "\n",
    "class ColWidget(widgets.Box):\n",
    "    \n",
    "    value = traitlets.Unicode()\n",
    "    def __init__(self,label='col',options=None,placehold='please choose a column'):\n",
    "        super(ColWidget,self).__init__()\n",
    "        \n",
    "        self.layout = widgets.Layout(width=\"100%\",display='flex-flow',flex_flow='row', justify_content=u'flex-start')\n",
    "        self.placehold = placehold\n",
    "        labels = widgets.Label(label,layout =widgets.Layout(width='64px') )\n",
    "        if not(isinstance(options,list)):\n",
    "            raise Exception('options must be a list')\n",
    "        self.inputs = widgets.Dropdown(options =[self.placehold]+options,value=self.placehold )\n",
    "        self.children = [labels,self.inputs]\n",
    "        self.inputs.observe(self.eventColChoose,'value')   \n",
    "        \n",
    "    def eventColChoose(self,change):\n",
    "        print('eventColChoose:' + change['new'])\n",
    "        if change['new'] != self.placehold:\n",
    "            self.value = change['new']\n",
    "\n",
    "class FilterWidget(widgets.Box):\n",
    "    value = traitlets.Unicode()\n",
    "    apply = traitlets.Bool(False)\n",
    "    \n",
    "    def __init__(self,options=None,dtypes=None,placehold='please choose a column'):\n",
    "        super(FilterWidget,self).__init__()\n",
    "        self._optType = dict(zip(options,dtypes))\n",
    "        self.layout = layout=widgets.Layout(display='flex-flow',flex_flow='column')\n",
    "        cmdSection = widgets.Box(layout=widgets.Layout(display='flex-flow',flex_flow='row', justify_content=u'flex-start'))\n",
    "        self.wColWidget = ColWidget(options=options,placehold=u'',label='请选择列')\n",
    "        self.btnAdd = widgets.Button(description=u'增加条件')\n",
    "        self.btnApply = widgets.Button(description=u'应用筛选')\n",
    "        self.btnCancel = widgets.Button(description=u'取消筛选')\n",
    "        cmdSection.children=[self.wColWidget,self.btnAdd,self.btnApply,self.btnCancel]\n",
    "        self.children = [cmdSection]\n",
    "        self.btnAdd.on_click(self.andFilter,False)\n",
    "        self.btnApply.on_click(self.filterApply,False)\n",
    "        self.btnCancel.on_click(self.filterCancel,False)\n",
    "    \n",
    "    def andFilter(self,a):\n",
    "        partCol = widgets.Label(self.wColWidget.value,layout=widgets.Layout(width='100px'))\n",
    "        partOp = widgets.Dropdown(options=['==','>','>=','<','<=','<>','in','between'],layout=widgets.Layout(width='100px'))\n",
    "        partInput = widgets.Text(placehold=u'请输入筛选范围')\n",
    "        partAnd = widgets.Label('and',layout=widgets.Layout(width='100px'))\n",
    "        addCondition = widgets.Box(layout=widgets.Layout(display='flex-flow',flex_flow='row', justify_content=u'flex-start'))\n",
    "        addCondition.children = [partCol,partOp,partInput,partAnd ]\n",
    "        self.children = [c for c in self.children] + [addCondition]\n",
    "    \n",
    "    def filterApply(self,a):\n",
    "        cond = []\n",
    "        for b in f.children[1:]:\n",
    "            field = b.children[0].value\n",
    "            op = b.children[1].value\n",
    "            value = b.children[2].value\n",
    "            fldType = self._optType.get(field)\n",
    "            if (str(fldType) in ['category','object']):\n",
    "                cond.append(\"({} {} '{}')\".format(field , op ,value)) \n",
    "            #elif Todo:handle other type data    \n",
    "            else:\n",
    "                cond.append(\"({} {} {})\".format(field , op ,value))\n",
    "        self.value = ' and '.join(cond)\n",
    "        self.apply = True\n",
    "        \n",
    "    def filterCancel(self,a):\n",
    "        self.value = ''\n",
    "        self.apply = False    \n",
    "        \n",
    "\n",
    "    "
   ]
  },
  {
   "cell_type": "code",
   "execution_count": null,
   "metadata": {
    "collapsed": true
   },
   "outputs": [],
   "source": []
  },
  {
   "cell_type": "code",
   "execution_count": null,
   "metadata": {
    "collapsed": true
   },
   "outputs": [],
   "source": []
  },
  {
   "cell_type": "code",
   "execution_count": 7,
   "metadata": {
    "collapsed": true
   },
   "outputs": [],
   "source": [
    "class DropWidget(EtlGUI):\n",
    "    _operation = 'drop'\n",
    "    \n",
    "    def __init__(self,cmds,kwargs=None):\n",
    "        super(DropWidget,self).__init__(self,cmds,kwargs=None)    "
   ]
  },
  {
   "cell_type": "code",
   "execution_count": 16,
   "metadata": {
    "collapsed": true
   },
   "outputs": [],
   "source": [
    "df = pd.read_csv('../data/iris.csv')"
   ]
  },
  {
   "cell_type": "code",
   "execution_count": 17,
   "metadata": {},
   "outputs": [
    {
     "data": {
      "application/vnd.jupyter.widget-view+json": {
       "model_id": "6c48330e07ef4a73a7ba5cede907c55c",
       "version_major": 2,
       "version_minor": 0
      },
      "text/plain": [
       "A Jupyter Widget"
      ]
     },
     "metadata": {},
     "output_type": "display_data"
    }
   ],
   "source": [
    "cmd = EtlCommand(df)\n",
    "cmd.showTable()"
   ]
  },
  {
   "cell_type": "code",
   "execution_count": 18,
   "metadata": {},
   "outputs": [
    {
     "name": "stdout",
     "output_type": "stream",
     "text": [
      "{'operation': 'drop', 'col': ['petalLength', 'petalWidth', 'sepalLength', 'sepalWidth', 'species']}\n"
     ]
    },
    {
     "data": {
      "application/vnd.jupyter.widget-view+json": {
       "model_id": "b262e6ca2ba6472494bac20cff99cc28",
       "version_major": 2,
       "version_minor": 0
      },
      "text/plain": [
       "A Jupyter Widget"
      ]
     },
     "metadata": {},
     "output_type": "display_data"
    }
   ],
   "source": [
    "cmd.showGUI()"
   ]
  },
  {
   "cell_type": "code",
   "execution_count": 41,
   "metadata": {},
   "outputs": [
    {
     "data": {
      "application/vnd.jupyter.widget-view+json": {
       "model_id": "72fe214c590a405cbc64d883a6e39d25",
       "version_major": 2,
       "version_minor": 0
      },
      "text/plain": [
       "A Jupyter Widget"
      ]
     },
     "metadata": {},
     "output_type": "display_data"
    },
    {
     "name": "stdout",
     "output_type": "stream",
     "text": [
      "eventColChoose:petalWidth\n",
      "eventColChoose:\n"
     ]
    }
   ],
   "source": [
    "\n",
    "f =FilterWidget(options=df.columns.values.tolist(),dtypes=['float64','float64','float64','float64','category'],placehold=u'请选择')\n",
    "f"
   ]
  },
  {
   "cell_type": "code",
   "execution_count": 42,
   "metadata": {},
   "outputs": [
    {
     "data": {
      "text/plain": [
       "pandas.core.categorical.Categorical"
      ]
     },
     "execution_count": 42,
     "metadata": {},
     "output_type": "execute_result"
    }
   ],
   "source": [
    "pd.Categorical"
   ]
  },
  {
   "cell_type": "code",
   "execution_count": null,
   "metadata": {
    "collapsed": true
   },
   "outputs": [],
   "source": []
  }
 ],
 "metadata": {
  "kernelspec": {
   "display_name": "Python 3",
   "language": "python",
   "name": "python3"
  },
  "language_info": {
   "codemirror_mode": {
    "name": "ipython",
    "version": 3
   },
   "file_extension": ".py",
   "mimetype": "text/x-python",
   "name": "python",
   "nbconvert_exporter": "python",
   "pygments_lexer": "ipython3",
   "version": "3.6.3"
  },
  "varInspector": {
   "cols": {
    "lenName": 16,
    "lenType": 16,
    "lenVar": 40
   },
   "kernels_config": {
    "python": {
     "delete_cmd_postfix": "",
     "delete_cmd_prefix": "del ",
     "library": "var_list.py",
     "varRefreshCmd": "print(var_dic_list())"
    },
    "r": {
     "delete_cmd_postfix": ") ",
     "delete_cmd_prefix": "rm(",
     "library": "var_list.r",
     "varRefreshCmd": "cat(var_dic_list()) "
    }
   },
   "types_to_exclude": [
    "module",
    "function",
    "builtin_function_or_method",
    "instance",
    "_Feature"
   ],
   "window_display": false
  }
 },
 "nbformat": 4,
 "nbformat_minor": 2
}
